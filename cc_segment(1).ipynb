{
  "nbformat": 4,
  "nbformat_minor": 0,
  "metadata": {
    "colab": {
      "name": "cc_segment.ipynb",
      "provenance": [],
      "collapsed_sections": []
    },
    "kernelspec": {
      "name": "python3",
      "display_name": "Python 3"
    },
    "language_info": {
      "name": "python"
    }
  },
  "cells": [
    {
      "cell_type": "code",
      "metadata": {
        "id": "d6mspQLuKnL5"
      },
      "source": [
        "import pandas as pd\n",
        "import numpy as np\n",
        "import seaborn as sns\n",
        "import matplotlib.pyplot as plt\n",
        "%matplotlib inline\n",
        "from sklearn.cluster import KMeans\n",
        "import warnings\n",
        "warnings.filterwarnings('ignore')"
      ],
      "execution_count": null,
      "outputs": []
    },
    {
      "cell_type": "code",
      "metadata": {
        "colab": {
          "base_uri": "https://localhost:8080/",
          "height": 697
        },
        "id": "RVI_WWBt1Vbn",
        "outputId": "58f3a394-f3d9-4b6b-bef0-94061a546c0c"
      },
      "source": [
        "df =pd.read_csv(\"/content/Data_problem 1.csv\")\n",
        "df.head(20)"
      ],
      "execution_count": null,
      "outputs": [
        {
          "output_type": "execute_result",
          "data": {
            "text/html": [
              "<div>\n",
              "<style scoped>\n",
              "    .dataframe tbody tr th:only-of-type {\n",
              "        vertical-align: middle;\n",
              "    }\n",
              "\n",
              "    .dataframe tbody tr th {\n",
              "        vertical-align: top;\n",
              "    }\n",
              "\n",
              "    .dataframe thead th {\n",
              "        text-align: right;\n",
              "    }\n",
              "</style>\n",
              "<table border=\"1\" class=\"dataframe\">\n",
              "  <thead>\n",
              "    <tr style=\"text-align: right;\">\n",
              "      <th></th>\n",
              "      <th>CUST_ID</th>\n",
              "      <th>BALANCE</th>\n",
              "      <th>BALANCE_FREQUENCY</th>\n",
              "      <th>PURCHASES</th>\n",
              "      <th>ONEOFF_PURCHASES</th>\n",
              "      <th>INSTALLMENTS_PURCHASES</th>\n",
              "      <th>CASH_ADVANCE</th>\n",
              "      <th>PURCHASES_FREQUENCY</th>\n",
              "      <th>ONEOFF_PURCHASES_FREQUENCY</th>\n",
              "      <th>PURCHASES_INSTALLMENTS_FREQUENCY</th>\n",
              "      <th>CASH_ADVANCE_FREQUENCY</th>\n",
              "      <th>CASH_ADVANCE_TRX</th>\n",
              "      <th>PURCHASES_TRX</th>\n",
              "      <th>CREDIT_LIMIT</th>\n",
              "      <th>PAYMENTS</th>\n",
              "      <th>MINIMUM_PAYMENTS</th>\n",
              "      <th>PRC_FULL_PAYMENT</th>\n",
              "      <th>TENURE</th>\n",
              "    </tr>\n",
              "  </thead>\n",
              "  <tbody>\n",
              "    <tr>\n",
              "      <th>0</th>\n",
              "      <td>C10001</td>\n",
              "      <td>40.900749</td>\n",
              "      <td>0.818182</td>\n",
              "      <td>95.40</td>\n",
              "      <td>0.00</td>\n",
              "      <td>95.40</td>\n",
              "      <td>0.000000</td>\n",
              "      <td>0.166667</td>\n",
              "      <td>0.000000</td>\n",
              "      <td>0.083333</td>\n",
              "      <td>0.000000</td>\n",
              "      <td>0</td>\n",
              "      <td>2</td>\n",
              "      <td>1000.0</td>\n",
              "      <td>201.802084</td>\n",
              "      <td>139.509787</td>\n",
              "      <td>0.000000</td>\n",
              "      <td>12</td>\n",
              "    </tr>\n",
              "    <tr>\n",
              "      <th>1</th>\n",
              "      <td>C10002</td>\n",
              "      <td>3202.467416</td>\n",
              "      <td>0.909091</td>\n",
              "      <td>0.00</td>\n",
              "      <td>0.00</td>\n",
              "      <td>0.00</td>\n",
              "      <td>6442.945483</td>\n",
              "      <td>0.000000</td>\n",
              "      <td>0.000000</td>\n",
              "      <td>0.000000</td>\n",
              "      <td>0.250000</td>\n",
              "      <td>4</td>\n",
              "      <td>0</td>\n",
              "      <td>7000.0</td>\n",
              "      <td>4103.032597</td>\n",
              "      <td>1072.340217</td>\n",
              "      <td>0.222222</td>\n",
              "      <td>12</td>\n",
              "    </tr>\n",
              "    <tr>\n",
              "      <th>2</th>\n",
              "      <td>C10003</td>\n",
              "      <td>2495.148862</td>\n",
              "      <td>1.000000</td>\n",
              "      <td>773.17</td>\n",
              "      <td>773.17</td>\n",
              "      <td>0.00</td>\n",
              "      <td>0.000000</td>\n",
              "      <td>1.000000</td>\n",
              "      <td>1.000000</td>\n",
              "      <td>0.000000</td>\n",
              "      <td>0.000000</td>\n",
              "      <td>0</td>\n",
              "      <td>12</td>\n",
              "      <td>7500.0</td>\n",
              "      <td>622.066742</td>\n",
              "      <td>627.284787</td>\n",
              "      <td>0.000000</td>\n",
              "      <td>12</td>\n",
              "    </tr>\n",
              "    <tr>\n",
              "      <th>3</th>\n",
              "      <td>C10004</td>\n",
              "      <td>1666.670542</td>\n",
              "      <td>0.636364</td>\n",
              "      <td>1499.00</td>\n",
              "      <td>1499.00</td>\n",
              "      <td>0.00</td>\n",
              "      <td>205.788017</td>\n",
              "      <td>0.083333</td>\n",
              "      <td>0.083333</td>\n",
              "      <td>0.000000</td>\n",
              "      <td>0.083333</td>\n",
              "      <td>1</td>\n",
              "      <td>1</td>\n",
              "      <td>7500.0</td>\n",
              "      <td>0.000000</td>\n",
              "      <td>NaN</td>\n",
              "      <td>0.000000</td>\n",
              "      <td>12</td>\n",
              "    </tr>\n",
              "    <tr>\n",
              "      <th>4</th>\n",
              "      <td>C10005</td>\n",
              "      <td>817.714335</td>\n",
              "      <td>1.000000</td>\n",
              "      <td>16.00</td>\n",
              "      <td>16.00</td>\n",
              "      <td>0.00</td>\n",
              "      <td>0.000000</td>\n",
              "      <td>0.083333</td>\n",
              "      <td>0.083333</td>\n",
              "      <td>0.000000</td>\n",
              "      <td>0.000000</td>\n",
              "      <td>0</td>\n",
              "      <td>1</td>\n",
              "      <td>1200.0</td>\n",
              "      <td>678.334763</td>\n",
              "      <td>244.791237</td>\n",
              "      <td>0.000000</td>\n",
              "      <td>12</td>\n",
              "    </tr>\n",
              "    <tr>\n",
              "      <th>5</th>\n",
              "      <td>C10006</td>\n",
              "      <td>1809.828751</td>\n",
              "      <td>1.000000</td>\n",
              "      <td>1333.28</td>\n",
              "      <td>0.00</td>\n",
              "      <td>1333.28</td>\n",
              "      <td>0.000000</td>\n",
              "      <td>0.666667</td>\n",
              "      <td>0.000000</td>\n",
              "      <td>0.583333</td>\n",
              "      <td>0.000000</td>\n",
              "      <td>0</td>\n",
              "      <td>8</td>\n",
              "      <td>1800.0</td>\n",
              "      <td>1400.057770</td>\n",
              "      <td>2407.246035</td>\n",
              "      <td>0.000000</td>\n",
              "      <td>12</td>\n",
              "    </tr>\n",
              "    <tr>\n",
              "      <th>6</th>\n",
              "      <td>C10007</td>\n",
              "      <td>627.260806</td>\n",
              "      <td>1.000000</td>\n",
              "      <td>7091.01</td>\n",
              "      <td>6402.63</td>\n",
              "      <td>688.38</td>\n",
              "      <td>0.000000</td>\n",
              "      <td>1.000000</td>\n",
              "      <td>1.000000</td>\n",
              "      <td>1.000000</td>\n",
              "      <td>0.000000</td>\n",
              "      <td>0</td>\n",
              "      <td>64</td>\n",
              "      <td>13500.0</td>\n",
              "      <td>6354.314328</td>\n",
              "      <td>198.065894</td>\n",
              "      <td>1.000000</td>\n",
              "      <td>12</td>\n",
              "    </tr>\n",
              "    <tr>\n",
              "      <th>7</th>\n",
              "      <td>C10008</td>\n",
              "      <td>1823.652743</td>\n",
              "      <td>1.000000</td>\n",
              "      <td>436.20</td>\n",
              "      <td>0.00</td>\n",
              "      <td>436.20</td>\n",
              "      <td>0.000000</td>\n",
              "      <td>1.000000</td>\n",
              "      <td>0.000000</td>\n",
              "      <td>1.000000</td>\n",
              "      <td>0.000000</td>\n",
              "      <td>0</td>\n",
              "      <td>12</td>\n",
              "      <td>2300.0</td>\n",
              "      <td>679.065082</td>\n",
              "      <td>532.033990</td>\n",
              "      <td>0.000000</td>\n",
              "      <td>12</td>\n",
              "    </tr>\n",
              "    <tr>\n",
              "      <th>8</th>\n",
              "      <td>C10009</td>\n",
              "      <td>1014.926473</td>\n",
              "      <td>1.000000</td>\n",
              "      <td>861.49</td>\n",
              "      <td>661.49</td>\n",
              "      <td>200.00</td>\n",
              "      <td>0.000000</td>\n",
              "      <td>0.333333</td>\n",
              "      <td>0.083333</td>\n",
              "      <td>0.250000</td>\n",
              "      <td>0.000000</td>\n",
              "      <td>0</td>\n",
              "      <td>5</td>\n",
              "      <td>7000.0</td>\n",
              "      <td>688.278568</td>\n",
              "      <td>311.963409</td>\n",
              "      <td>0.000000</td>\n",
              "      <td>12</td>\n",
              "    </tr>\n",
              "    <tr>\n",
              "      <th>9</th>\n",
              "      <td>C10010</td>\n",
              "      <td>152.225975</td>\n",
              "      <td>0.545455</td>\n",
              "      <td>1281.60</td>\n",
              "      <td>1281.60</td>\n",
              "      <td>0.00</td>\n",
              "      <td>0.000000</td>\n",
              "      <td>0.166667</td>\n",
              "      <td>0.166667</td>\n",
              "      <td>0.000000</td>\n",
              "      <td>0.000000</td>\n",
              "      <td>0</td>\n",
              "      <td>3</td>\n",
              "      <td>11000.0</td>\n",
              "      <td>1164.770591</td>\n",
              "      <td>100.302262</td>\n",
              "      <td>0.000000</td>\n",
              "      <td>12</td>\n",
              "    </tr>\n",
              "    <tr>\n",
              "      <th>10</th>\n",
              "      <td>C10011</td>\n",
              "      <td>1293.124939</td>\n",
              "      <td>1.000000</td>\n",
              "      <td>920.12</td>\n",
              "      <td>0.00</td>\n",
              "      <td>920.12</td>\n",
              "      <td>0.000000</td>\n",
              "      <td>1.000000</td>\n",
              "      <td>0.000000</td>\n",
              "      <td>1.000000</td>\n",
              "      <td>0.000000</td>\n",
              "      <td>0</td>\n",
              "      <td>12</td>\n",
              "      <td>1200.0</td>\n",
              "      <td>1083.301007</td>\n",
              "      <td>2172.697765</td>\n",
              "      <td>0.000000</td>\n",
              "      <td>12</td>\n",
              "    </tr>\n",
              "    <tr>\n",
              "      <th>11</th>\n",
              "      <td>C10012</td>\n",
              "      <td>630.794744</td>\n",
              "      <td>0.818182</td>\n",
              "      <td>1492.18</td>\n",
              "      <td>1492.18</td>\n",
              "      <td>0.00</td>\n",
              "      <td>0.000000</td>\n",
              "      <td>0.250000</td>\n",
              "      <td>0.250000</td>\n",
              "      <td>0.000000</td>\n",
              "      <td>0.000000</td>\n",
              "      <td>0</td>\n",
              "      <td>6</td>\n",
              "      <td>2000.0</td>\n",
              "      <td>705.618627</td>\n",
              "      <td>155.549069</td>\n",
              "      <td>0.000000</td>\n",
              "      <td>12</td>\n",
              "    </tr>\n",
              "    <tr>\n",
              "      <th>12</th>\n",
              "      <td>C10013</td>\n",
              "      <td>1516.928620</td>\n",
              "      <td>1.000000</td>\n",
              "      <td>3217.99</td>\n",
              "      <td>2500.23</td>\n",
              "      <td>717.76</td>\n",
              "      <td>0.000000</td>\n",
              "      <td>1.000000</td>\n",
              "      <td>0.250000</td>\n",
              "      <td>0.916667</td>\n",
              "      <td>0.000000</td>\n",
              "      <td>0</td>\n",
              "      <td>26</td>\n",
              "      <td>3000.0</td>\n",
              "      <td>608.263689</td>\n",
              "      <td>490.207013</td>\n",
              "      <td>0.250000</td>\n",
              "      <td>12</td>\n",
              "    </tr>\n",
              "    <tr>\n",
              "      <th>13</th>\n",
              "      <td>C10014</td>\n",
              "      <td>921.693369</td>\n",
              "      <td>1.000000</td>\n",
              "      <td>2137.93</td>\n",
              "      <td>419.96</td>\n",
              "      <td>1717.97</td>\n",
              "      <td>0.000000</td>\n",
              "      <td>0.750000</td>\n",
              "      <td>0.166667</td>\n",
              "      <td>0.750000</td>\n",
              "      <td>0.000000</td>\n",
              "      <td>0</td>\n",
              "      <td>26</td>\n",
              "      <td>7500.0</td>\n",
              "      <td>1655.891435</td>\n",
              "      <td>251.137986</td>\n",
              "      <td>0.083333</td>\n",
              "      <td>12</td>\n",
              "    </tr>\n",
              "    <tr>\n",
              "      <th>14</th>\n",
              "      <td>C10015</td>\n",
              "      <td>2772.772734</td>\n",
              "      <td>1.000000</td>\n",
              "      <td>0.00</td>\n",
              "      <td>0.00</td>\n",
              "      <td>0.00</td>\n",
              "      <td>346.811390</td>\n",
              "      <td>0.000000</td>\n",
              "      <td>0.000000</td>\n",
              "      <td>0.000000</td>\n",
              "      <td>0.083333</td>\n",
              "      <td>1</td>\n",
              "      <td>0</td>\n",
              "      <td>3000.0</td>\n",
              "      <td>805.647974</td>\n",
              "      <td>989.962866</td>\n",
              "      <td>0.000000</td>\n",
              "      <td>12</td>\n",
              "    </tr>\n",
              "    <tr>\n",
              "      <th>15</th>\n",
              "      <td>C10016</td>\n",
              "      <td>6886.213231</td>\n",
              "      <td>1.000000</td>\n",
              "      <td>1611.70</td>\n",
              "      <td>0.00</td>\n",
              "      <td>1611.70</td>\n",
              "      <td>2301.491267</td>\n",
              "      <td>0.500000</td>\n",
              "      <td>0.000000</td>\n",
              "      <td>0.500000</td>\n",
              "      <td>0.166667</td>\n",
              "      <td>4</td>\n",
              "      <td>11</td>\n",
              "      <td>8000.0</td>\n",
              "      <td>1993.439277</td>\n",
              "      <td>2109.906490</td>\n",
              "      <td>0.000000</td>\n",
              "      <td>12</td>\n",
              "    </tr>\n",
              "    <tr>\n",
              "      <th>16</th>\n",
              "      <td>C10017</td>\n",
              "      <td>2072.074354</td>\n",
              "      <td>0.875000</td>\n",
              "      <td>0.00</td>\n",
              "      <td>0.00</td>\n",
              "      <td>0.00</td>\n",
              "      <td>2784.274703</td>\n",
              "      <td>0.000000</td>\n",
              "      <td>0.000000</td>\n",
              "      <td>0.000000</td>\n",
              "      <td>0.250000</td>\n",
              "      <td>3</td>\n",
              "      <td>0</td>\n",
              "      <td>3000.0</td>\n",
              "      <td>391.974562</td>\n",
              "      <td>376.579631</td>\n",
              "      <td>0.000000</td>\n",
              "      <td>8</td>\n",
              "    </tr>\n",
              "    <tr>\n",
              "      <th>17</th>\n",
              "      <td>C10018</td>\n",
              "      <td>41.089489</td>\n",
              "      <td>0.454545</td>\n",
              "      <td>519.00</td>\n",
              "      <td>0.00</td>\n",
              "      <td>519.00</td>\n",
              "      <td>0.000000</td>\n",
              "      <td>0.416667</td>\n",
              "      <td>0.000000</td>\n",
              "      <td>0.333333</td>\n",
              "      <td>0.000000</td>\n",
              "      <td>0</td>\n",
              "      <td>8</td>\n",
              "      <td>2500.0</td>\n",
              "      <td>254.590662</td>\n",
              "      <td>73.203221</td>\n",
              "      <td>0.250000</td>\n",
              "      <td>12</td>\n",
              "    </tr>\n",
              "    <tr>\n",
              "      <th>18</th>\n",
              "      <td>C10019</td>\n",
              "      <td>1989.072228</td>\n",
              "      <td>1.000000</td>\n",
              "      <td>504.35</td>\n",
              "      <td>166.00</td>\n",
              "      <td>338.35</td>\n",
              "      <td>0.000000</td>\n",
              "      <td>0.666667</td>\n",
              "      <td>0.083333</td>\n",
              "      <td>0.583333</td>\n",
              "      <td>0.000000</td>\n",
              "      <td>0</td>\n",
              "      <td>9</td>\n",
              "      <td>13000.0</td>\n",
              "      <td>1720.837373</td>\n",
              "      <td>744.613395</td>\n",
              "      <td>0.000000</td>\n",
              "      <td>12</td>\n",
              "    </tr>\n",
              "    <tr>\n",
              "      <th>19</th>\n",
              "      <td>C10020</td>\n",
              "      <td>3577.970933</td>\n",
              "      <td>1.000000</td>\n",
              "      <td>398.64</td>\n",
              "      <td>0.00</td>\n",
              "      <td>398.64</td>\n",
              "      <td>0.000000</td>\n",
              "      <td>1.000000</td>\n",
              "      <td>0.000000</td>\n",
              "      <td>1.000000</td>\n",
              "      <td>0.000000</td>\n",
              "      <td>0</td>\n",
              "      <td>12</td>\n",
              "      <td>4000.0</td>\n",
              "      <td>1053.980464</td>\n",
              "      <td>12465.549380</td>\n",
              "      <td>0.000000</td>\n",
              "      <td>12</td>\n",
              "    </tr>\n",
              "  </tbody>\n",
              "</table>\n",
              "</div>"
            ],
            "text/plain": [
              "   CUST_ID      BALANCE  ...  PRC_FULL_PAYMENT  TENURE\n",
              "0   C10001    40.900749  ...          0.000000      12\n",
              "1   C10002  3202.467416  ...          0.222222      12\n",
              "2   C10003  2495.148862  ...          0.000000      12\n",
              "3   C10004  1666.670542  ...          0.000000      12\n",
              "4   C10005   817.714335  ...          0.000000      12\n",
              "5   C10006  1809.828751  ...          0.000000      12\n",
              "6   C10007   627.260806  ...          1.000000      12\n",
              "7   C10008  1823.652743  ...          0.000000      12\n",
              "8   C10009  1014.926473  ...          0.000000      12\n",
              "9   C10010   152.225975  ...          0.000000      12\n",
              "10  C10011  1293.124939  ...          0.000000      12\n",
              "11  C10012   630.794744  ...          0.000000      12\n",
              "12  C10013  1516.928620  ...          0.250000      12\n",
              "13  C10014   921.693369  ...          0.083333      12\n",
              "14  C10015  2772.772734  ...          0.000000      12\n",
              "15  C10016  6886.213231  ...          0.000000      12\n",
              "16  C10017  2072.074354  ...          0.000000       8\n",
              "17  C10018    41.089489  ...          0.250000      12\n",
              "18  C10019  1989.072228  ...          0.000000      12\n",
              "19  C10020  3577.970933  ...          0.000000      12\n",
              "\n",
              "[20 rows x 18 columns]"
            ]
          },
          "metadata": {
            "tags": []
          },
          "execution_count": 3
        }
      ]
    },
    {
      "cell_type": "code",
      "metadata": {
        "colab": {
          "base_uri": "https://localhost:8080/"
        },
        "id": "oYioeYvl1f1T",
        "outputId": "31014c32-7f9e-46e8-fb2c-097ce46c86f6"
      },
      "source": [
        "print(df.columns)\n",
        "print(df.shape)"
      ],
      "execution_count": null,
      "outputs": [
        {
          "output_type": "stream",
          "text": [
            "Index(['CUST_ID', 'BALANCE', 'BALANCE_FREQUENCY', 'PURCHASES',\n",
            "       'ONEOFF_PURCHASES', 'INSTALLMENTS_PURCHASES', 'CASH_ADVANCE',\n",
            "       'PURCHASES_FREQUENCY', 'ONEOFF_PURCHASES_FREQUENCY',\n",
            "       'PURCHASES_INSTALLMENTS_FREQUENCY', 'CASH_ADVANCE_FREQUENCY',\n",
            "       'CASH_ADVANCE_TRX', 'PURCHASES_TRX', 'CREDIT_LIMIT', 'PAYMENTS',\n",
            "       'MINIMUM_PAYMENTS', 'PRC_FULL_PAYMENT', 'TENURE'],\n",
            "      dtype='object')\n",
            "(8950, 18)\n"
          ],
          "name": "stdout"
        }
      ]
    },
    {
      "cell_type": "code",
      "metadata": {
        "colab": {
          "base_uri": "https://localhost:8080/",
          "height": 320
        },
        "id": "6kMRYAIQ1qvC",
        "outputId": "c133ac98-8838-4efb-db6f-15cb5205086f"
      },
      "source": [
        "df.describe()"
      ],
      "execution_count": null,
      "outputs": [
        {
          "output_type": "execute_result",
          "data": {
            "text/html": [
              "<div>\n",
              "<style scoped>\n",
              "    .dataframe tbody tr th:only-of-type {\n",
              "        vertical-align: middle;\n",
              "    }\n",
              "\n",
              "    .dataframe tbody tr th {\n",
              "        vertical-align: top;\n",
              "    }\n",
              "\n",
              "    .dataframe thead th {\n",
              "        text-align: right;\n",
              "    }\n",
              "</style>\n",
              "<table border=\"1\" class=\"dataframe\">\n",
              "  <thead>\n",
              "    <tr style=\"text-align: right;\">\n",
              "      <th></th>\n",
              "      <th>BALANCE</th>\n",
              "      <th>BALANCE_FREQUENCY</th>\n",
              "      <th>PURCHASES</th>\n",
              "      <th>ONEOFF_PURCHASES</th>\n",
              "      <th>INSTALLMENTS_PURCHASES</th>\n",
              "      <th>CASH_ADVANCE</th>\n",
              "      <th>PURCHASES_FREQUENCY</th>\n",
              "      <th>ONEOFF_PURCHASES_FREQUENCY</th>\n",
              "      <th>PURCHASES_INSTALLMENTS_FREQUENCY</th>\n",
              "      <th>CASH_ADVANCE_FREQUENCY</th>\n",
              "      <th>CASH_ADVANCE_TRX</th>\n",
              "      <th>PURCHASES_TRX</th>\n",
              "      <th>CREDIT_LIMIT</th>\n",
              "      <th>PAYMENTS</th>\n",
              "      <th>MINIMUM_PAYMENTS</th>\n",
              "      <th>PRC_FULL_PAYMENT</th>\n",
              "      <th>TENURE</th>\n",
              "    </tr>\n",
              "  </thead>\n",
              "  <tbody>\n",
              "    <tr>\n",
              "      <th>count</th>\n",
              "      <td>8950.000000</td>\n",
              "      <td>8950.000000</td>\n",
              "      <td>8950.000000</td>\n",
              "      <td>8950.000000</td>\n",
              "      <td>8950.000000</td>\n",
              "      <td>8950.000000</td>\n",
              "      <td>8950.000000</td>\n",
              "      <td>8950.000000</td>\n",
              "      <td>8950.000000</td>\n",
              "      <td>8950.000000</td>\n",
              "      <td>8950.000000</td>\n",
              "      <td>8950.000000</td>\n",
              "      <td>8949.000000</td>\n",
              "      <td>8950.000000</td>\n",
              "      <td>8637.000000</td>\n",
              "      <td>8950.000000</td>\n",
              "      <td>8950.000000</td>\n",
              "    </tr>\n",
              "    <tr>\n",
              "      <th>mean</th>\n",
              "      <td>1564.474828</td>\n",
              "      <td>0.877271</td>\n",
              "      <td>1003.204834</td>\n",
              "      <td>592.437371</td>\n",
              "      <td>411.067645</td>\n",
              "      <td>978.871112</td>\n",
              "      <td>0.490351</td>\n",
              "      <td>0.202458</td>\n",
              "      <td>0.364437</td>\n",
              "      <td>0.135144</td>\n",
              "      <td>3.248827</td>\n",
              "      <td>14.709832</td>\n",
              "      <td>4494.449450</td>\n",
              "      <td>1733.143852</td>\n",
              "      <td>864.206542</td>\n",
              "      <td>0.153715</td>\n",
              "      <td>11.517318</td>\n",
              "    </tr>\n",
              "    <tr>\n",
              "      <th>std</th>\n",
              "      <td>2081.531879</td>\n",
              "      <td>0.236904</td>\n",
              "      <td>2136.634782</td>\n",
              "      <td>1659.887917</td>\n",
              "      <td>904.338115</td>\n",
              "      <td>2097.163877</td>\n",
              "      <td>0.401371</td>\n",
              "      <td>0.298336</td>\n",
              "      <td>0.397448</td>\n",
              "      <td>0.200121</td>\n",
              "      <td>6.824647</td>\n",
              "      <td>24.857649</td>\n",
              "      <td>3638.815725</td>\n",
              "      <td>2895.063757</td>\n",
              "      <td>2372.446607</td>\n",
              "      <td>0.292499</td>\n",
              "      <td>1.338331</td>\n",
              "    </tr>\n",
              "    <tr>\n",
              "      <th>min</th>\n",
              "      <td>0.000000</td>\n",
              "      <td>0.000000</td>\n",
              "      <td>0.000000</td>\n",
              "      <td>0.000000</td>\n",
              "      <td>0.000000</td>\n",
              "      <td>0.000000</td>\n",
              "      <td>0.000000</td>\n",
              "      <td>0.000000</td>\n",
              "      <td>0.000000</td>\n",
              "      <td>0.000000</td>\n",
              "      <td>0.000000</td>\n",
              "      <td>0.000000</td>\n",
              "      <td>50.000000</td>\n",
              "      <td>0.000000</td>\n",
              "      <td>0.019163</td>\n",
              "      <td>0.000000</td>\n",
              "      <td>6.000000</td>\n",
              "    </tr>\n",
              "    <tr>\n",
              "      <th>25%</th>\n",
              "      <td>128.281915</td>\n",
              "      <td>0.888889</td>\n",
              "      <td>39.635000</td>\n",
              "      <td>0.000000</td>\n",
              "      <td>0.000000</td>\n",
              "      <td>0.000000</td>\n",
              "      <td>0.083333</td>\n",
              "      <td>0.000000</td>\n",
              "      <td>0.000000</td>\n",
              "      <td>0.000000</td>\n",
              "      <td>0.000000</td>\n",
              "      <td>1.000000</td>\n",
              "      <td>1600.000000</td>\n",
              "      <td>383.276166</td>\n",
              "      <td>169.123707</td>\n",
              "      <td>0.000000</td>\n",
              "      <td>12.000000</td>\n",
              "    </tr>\n",
              "    <tr>\n",
              "      <th>50%</th>\n",
              "      <td>873.385231</td>\n",
              "      <td>1.000000</td>\n",
              "      <td>361.280000</td>\n",
              "      <td>38.000000</td>\n",
              "      <td>89.000000</td>\n",
              "      <td>0.000000</td>\n",
              "      <td>0.500000</td>\n",
              "      <td>0.083333</td>\n",
              "      <td>0.166667</td>\n",
              "      <td>0.000000</td>\n",
              "      <td>0.000000</td>\n",
              "      <td>7.000000</td>\n",
              "      <td>3000.000000</td>\n",
              "      <td>856.901546</td>\n",
              "      <td>312.343947</td>\n",
              "      <td>0.000000</td>\n",
              "      <td>12.000000</td>\n",
              "    </tr>\n",
              "    <tr>\n",
              "      <th>75%</th>\n",
              "      <td>2054.140036</td>\n",
              "      <td>1.000000</td>\n",
              "      <td>1110.130000</td>\n",
              "      <td>577.405000</td>\n",
              "      <td>468.637500</td>\n",
              "      <td>1113.821139</td>\n",
              "      <td>0.916667</td>\n",
              "      <td>0.300000</td>\n",
              "      <td>0.750000</td>\n",
              "      <td>0.222222</td>\n",
              "      <td>4.000000</td>\n",
              "      <td>17.000000</td>\n",
              "      <td>6500.000000</td>\n",
              "      <td>1901.134317</td>\n",
              "      <td>825.485459</td>\n",
              "      <td>0.142857</td>\n",
              "      <td>12.000000</td>\n",
              "    </tr>\n",
              "    <tr>\n",
              "      <th>max</th>\n",
              "      <td>19043.138560</td>\n",
              "      <td>1.000000</td>\n",
              "      <td>49039.570000</td>\n",
              "      <td>40761.250000</td>\n",
              "      <td>22500.000000</td>\n",
              "      <td>47137.211760</td>\n",
              "      <td>1.000000</td>\n",
              "      <td>1.000000</td>\n",
              "      <td>1.000000</td>\n",
              "      <td>1.500000</td>\n",
              "      <td>123.000000</td>\n",
              "      <td>358.000000</td>\n",
              "      <td>30000.000000</td>\n",
              "      <td>50721.483360</td>\n",
              "      <td>76406.207520</td>\n",
              "      <td>1.000000</td>\n",
              "      <td>12.000000</td>\n",
              "    </tr>\n",
              "  </tbody>\n",
              "</table>\n",
              "</div>"
            ],
            "text/plain": [
              "            BALANCE  BALANCE_FREQUENCY  ...  PRC_FULL_PAYMENT       TENURE\n",
              "count   8950.000000        8950.000000  ...       8950.000000  8950.000000\n",
              "mean    1564.474828           0.877271  ...          0.153715    11.517318\n",
              "std     2081.531879           0.236904  ...          0.292499     1.338331\n",
              "min        0.000000           0.000000  ...          0.000000     6.000000\n",
              "25%      128.281915           0.888889  ...          0.000000    12.000000\n",
              "50%      873.385231           1.000000  ...          0.000000    12.000000\n",
              "75%     2054.140036           1.000000  ...          0.142857    12.000000\n",
              "max    19043.138560           1.000000  ...          1.000000    12.000000\n",
              "\n",
              "[8 rows x 17 columns]"
            ]
          },
          "metadata": {
            "tags": []
          },
          "execution_count": 5
        }
      ]
    },
    {
      "cell_type": "code",
      "metadata": {
        "colab": {
          "base_uri": "https://localhost:8080/"
        },
        "id": "vgg8LWeu1t9T",
        "outputId": "d7d351e6-2a05-4d29-8998-17156500e59a"
      },
      "source": [
        "df.info()"
      ],
      "execution_count": null,
      "outputs": [
        {
          "output_type": "stream",
          "text": [
            "<class 'pandas.core.frame.DataFrame'>\n",
            "RangeIndex: 8950 entries, 0 to 8949\n",
            "Data columns (total 18 columns):\n",
            " #   Column                            Non-Null Count  Dtype  \n",
            "---  ------                            --------------  -----  \n",
            " 0   CUST_ID                           8950 non-null   object \n",
            " 1   BALANCE                           8950 non-null   float64\n",
            " 2   BALANCE_FREQUENCY                 8950 non-null   float64\n",
            " 3   PURCHASES                         8950 non-null   float64\n",
            " 4   ONEOFF_PURCHASES                  8950 non-null   float64\n",
            " 5   INSTALLMENTS_PURCHASES            8950 non-null   float64\n",
            " 6   CASH_ADVANCE                      8950 non-null   float64\n",
            " 7   PURCHASES_FREQUENCY               8950 non-null   float64\n",
            " 8   ONEOFF_PURCHASES_FREQUENCY        8950 non-null   float64\n",
            " 9   PURCHASES_INSTALLMENTS_FREQUENCY  8950 non-null   float64\n",
            " 10  CASH_ADVANCE_FREQUENCY            8950 non-null   float64\n",
            " 11  CASH_ADVANCE_TRX                  8950 non-null   int64  \n",
            " 12  PURCHASES_TRX                     8950 non-null   int64  \n",
            " 13  CREDIT_LIMIT                      8949 non-null   float64\n",
            " 14  PAYMENTS                          8950 non-null   float64\n",
            " 15  MINIMUM_PAYMENTS                  8637 non-null   float64\n",
            " 16  PRC_FULL_PAYMENT                  8950 non-null   float64\n",
            " 17  TENURE                            8950 non-null   int64  \n",
            "dtypes: float64(14), int64(3), object(1)\n",
            "memory usage: 1.2+ MB\n"
          ],
          "name": "stdout"
        }
      ]
    },
    {
      "cell_type": "code",
      "metadata": {
        "colab": {
          "base_uri": "https://localhost:8080/"
        },
        "id": "QC7_okoZ1wxa",
        "outputId": "fc3e47aa-9163-4daf-e2ad-37c42ac54329"
      },
      "source": [
        "print(\"null values\")\n",
        "df.isnull().sum()\n"
      ],
      "execution_count": null,
      "outputs": [
        {
          "output_type": "stream",
          "text": [
            "null values\n"
          ],
          "name": "stdout"
        },
        {
          "output_type": "execute_result",
          "data": {
            "text/plain": [
              "CUST_ID                               0\n",
              "BALANCE                               0\n",
              "BALANCE_FREQUENCY                     0\n",
              "PURCHASES                             0\n",
              "ONEOFF_PURCHASES                      0\n",
              "INSTALLMENTS_PURCHASES                0\n",
              "CASH_ADVANCE                          0\n",
              "PURCHASES_FREQUENCY                   0\n",
              "ONEOFF_PURCHASES_FREQUENCY            0\n",
              "PURCHASES_INSTALLMENTS_FREQUENCY      0\n",
              "CASH_ADVANCE_FREQUENCY                0\n",
              "CASH_ADVANCE_TRX                      0\n",
              "PURCHASES_TRX                         0\n",
              "CREDIT_LIMIT                          1\n",
              "PAYMENTS                              0\n",
              "MINIMUM_PAYMENTS                    313\n",
              "PRC_FULL_PAYMENT                      0\n",
              "TENURE                                0\n",
              "dtype: int64"
            ]
          },
          "metadata": {
            "tags": []
          },
          "execution_count": 7
        }
      ]
    },
    {
      "cell_type": "code",
      "metadata": {
        "colab": {
          "base_uri": "https://localhost:8080/"
        },
        "id": "m_PMWFBb1ypV",
        "outputId": "7e88e293-33ac-43f7-f593-ad76f58ea86e"
      },
      "source": [
        "print(\"unique values\")\n",
        "df.nunique()"
      ],
      "execution_count": null,
      "outputs": [
        {
          "output_type": "stream",
          "text": [
            "unique values\n"
          ],
          "name": "stdout"
        },
        {
          "output_type": "execute_result",
          "data": {
            "text/plain": [
              "CUST_ID                             8950\n",
              "BALANCE                             8871\n",
              "BALANCE_FREQUENCY                     43\n",
              "PURCHASES                           6203\n",
              "ONEOFF_PURCHASES                    4014\n",
              "INSTALLMENTS_PURCHASES              4452\n",
              "CASH_ADVANCE                        4323\n",
              "PURCHASES_FREQUENCY                   47\n",
              "ONEOFF_PURCHASES_FREQUENCY            47\n",
              "PURCHASES_INSTALLMENTS_FREQUENCY      47\n",
              "CASH_ADVANCE_FREQUENCY                54\n",
              "CASH_ADVANCE_TRX                      65\n",
              "PURCHASES_TRX                        173\n",
              "CREDIT_LIMIT                         205\n",
              "PAYMENTS                            8711\n",
              "MINIMUM_PAYMENTS                    8636\n",
              "PRC_FULL_PAYMENT                      47\n",
              "TENURE                                 7\n",
              "dtype: int64"
            ]
          },
          "metadata": {
            "tags": []
          },
          "execution_count": 8
        }
      ]
    },
    {
      "cell_type": "code",
      "metadata": {
        "colab": {
          "base_uri": "https://localhost:8080/"
        },
        "id": "hnMQPJMn4sVA",
        "outputId": "97947c02-4a41-497a-b5d8-fae0abf617dd"
      },
      "source": [
        "df[\"CREDIT_LIMIT\"].dtypes"
      ],
      "execution_count": null,
      "outputs": [
        {
          "output_type": "execute_result",
          "data": {
            "text/plain": [
              "dtype('float64')"
            ]
          },
          "metadata": {
            "tags": []
          },
          "execution_count": 9
        }
      ]
    },
    {
      "cell_type": "code",
      "metadata": {
        "colab": {
          "base_uri": "https://localhost:8080/"
        },
        "id": "XREieUz42MCh",
        "outputId": "66daf6ef-0fc4-4385-fb08-c2f276c4ef64"
      },
      "source": [
        "df[\"CREDIT_LIMIT\"].fillna(df[\"CREDIT_LIMIT\"].mean(),inplace=True)\n",
        "df[\"MINIMUM_PAYMENTS\"].fillna(df[\"MINIMUM_PAYMENTS\"].median(),inplace=True)\n",
        "df.isnull().sum()"
      ],
      "execution_count": null,
      "outputs": [
        {
          "output_type": "execute_result",
          "data": {
            "text/plain": [
              "CUST_ID                             0\n",
              "BALANCE                             0\n",
              "BALANCE_FREQUENCY                   0\n",
              "PURCHASES                           0\n",
              "ONEOFF_PURCHASES                    0\n",
              "INSTALLMENTS_PURCHASES              0\n",
              "CASH_ADVANCE                        0\n",
              "PURCHASES_FREQUENCY                 0\n",
              "ONEOFF_PURCHASES_FREQUENCY          0\n",
              "PURCHASES_INSTALLMENTS_FREQUENCY    0\n",
              "CASH_ADVANCE_FREQUENCY              0\n",
              "CASH_ADVANCE_TRX                    0\n",
              "PURCHASES_TRX                       0\n",
              "CREDIT_LIMIT                        0\n",
              "PAYMENTS                            0\n",
              "MINIMUM_PAYMENTS                    0\n",
              "PRC_FULL_PAYMENT                    0\n",
              "TENURE                              0\n",
              "dtype: int64"
            ]
          },
          "metadata": {
            "tags": []
          },
          "execution_count": 10
        }
      ]
    },
    {
      "cell_type": "code",
      "metadata": {
        "id": "mBSq1OQJ4Y-_"
      },
      "source": [
        "df1=df.copy()"
      ],
      "execution_count": null,
      "outputs": []
    },
    {
      "cell_type": "code",
      "metadata": {
        "colab": {
          "base_uri": "https://localhost:8080/"
        },
        "id": "QIKx5ppY57wW",
        "outputId": "6b44c7e4-9e57-4f01-87e1-8f10f5753b77"
      },
      "source": [
        "df1.dtypes"
      ],
      "execution_count": null,
      "outputs": [
        {
          "output_type": "execute_result",
          "data": {
            "text/plain": [
              "CUST_ID                              object\n",
              "BALANCE                             float64\n",
              "BALANCE_FREQUENCY                   float64\n",
              "PURCHASES                           float64\n",
              "ONEOFF_PURCHASES                    float64\n",
              "INSTALLMENTS_PURCHASES              float64\n",
              "CASH_ADVANCE                        float64\n",
              "PURCHASES_FREQUENCY                 float64\n",
              "ONEOFF_PURCHASES_FREQUENCY          float64\n",
              "PURCHASES_INSTALLMENTS_FREQUENCY    float64\n",
              "CASH_ADVANCE_FREQUENCY              float64\n",
              "CASH_ADVANCE_TRX                      int64\n",
              "PURCHASES_TRX                         int64\n",
              "CREDIT_LIMIT                        float64\n",
              "PAYMENTS                            float64\n",
              "MINIMUM_PAYMENTS                    float64\n",
              "PRC_FULL_PAYMENT                    float64\n",
              "TENURE                                int64\n",
              "dtype: object"
            ]
          },
          "metadata": {
            "tags": []
          },
          "execution_count": 35
        }
      ]
    },
    {
      "cell_type": "code",
      "metadata": {
        "id": "x1lx6uqR54NK"
      },
      "source": [
        "df1.drop([\"CUST_ID\"],axis=1,inplace=True)"
      ],
      "execution_count": null,
      "outputs": []
    },
    {
      "cell_type": "code",
      "metadata": {
        "colab": {
          "base_uri": "https://localhost:8080/"
        },
        "id": "qREckaST48-E",
        "outputId": "c0253fbe-b78c-45b3-8888-87bccaf71692"
      },
      "source": [
        "df1.shape"
      ],
      "execution_count": null,
      "outputs": [
        {
          "output_type": "execute_result",
          "data": {
            "text/plain": [
              "(8950, 17)"
            ]
          },
          "metadata": {
            "tags": []
          },
          "execution_count": 14
        }
      ]
    },
    {
      "cell_type": "code",
      "metadata": {
        "colab": {
          "base_uri": "https://localhost:8080/"
        },
        "id": "34TRCltH5OiJ",
        "outputId": "a5e0e4af-59d3-41ab-d42a-6da428521ea7"
      },
      "source": [
        "knn_ = KMeans(n_clusters=3,random_state=42)\n",
        "knn_.fit(df1)\n",
        "pd.Series(knn_.labels_).value_counts()"
      ],
      "execution_count": null,
      "outputs": [
        {
          "output_type": "execute_result",
          "data": {
            "text/plain": [
              "1    6526\n",
              "2    2293\n",
              "0     131\n",
              "dtype: int64"
            ]
          },
          "metadata": {
            "tags": []
          },
          "execution_count": 15
        }
      ]
    },
    {
      "cell_type": "code",
      "metadata": {
        "id": "X85niF0H5hvU"
      },
      "source": [
        "cluster_range = range( 1, 21 )\n",
        "cluster_errors = []\n",
        "\n",
        "for num_clusters in range(1,21):\n",
        "    clusters = KMeans( num_clusters )\n",
        "    clusters.fit( df1 )\n",
        "    cluster_errors.append( clusters.inertia_ )"
      ],
      "execution_count": null,
      "outputs": []
    },
    {
      "cell_type": "code",
      "metadata": {
        "colab": {
          "base_uri": "https://localhost:8080/",
          "height": 677
        },
        "id": "DHivRo6t6Qz8",
        "outputId": "e1a40d7a-8dc5-43b9-a7e0-cfa39ae40a0e"
      },
      "source": [
        "clusters_df = pd.DataFrame( { \"num_clusters\":cluster_range, \"cluster_errors\": cluster_errors } )\n",
        "\n",
        "clusters_df[0:21]"
      ],
      "execution_count": null,
      "outputs": [
        {
          "output_type": "execute_result",
          "data": {
            "text/html": [
              "<div>\n",
              "<style scoped>\n",
              "    .dataframe tbody tr th:only-of-type {\n",
              "        vertical-align: middle;\n",
              "    }\n",
              "\n",
              "    .dataframe tbody tr th {\n",
              "        vertical-align: top;\n",
              "    }\n",
              "\n",
              "    .dataframe thead th {\n",
              "        text-align: right;\n",
              "    }\n",
              "</style>\n",
              "<table border=\"1\" class=\"dataframe\">\n",
              "  <thead>\n",
              "    <tr style=\"text-align: right;\">\n",
              "      <th></th>\n",
              "      <th>num_clusters</th>\n",
              "      <th>cluster_errors</th>\n",
              "    </tr>\n",
              "  </thead>\n",
              "  <tbody>\n",
              "    <tr>\n",
              "      <th>0</th>\n",
              "      <td>1</td>\n",
              "      <td>3.931530e+11</td>\n",
              "    </tr>\n",
              "    <tr>\n",
              "      <th>1</th>\n",
              "      <td>2</td>\n",
              "      <td>2.793412e+11</td>\n",
              "    </tr>\n",
              "    <tr>\n",
              "      <th>2</th>\n",
              "      <td>3</td>\n",
              "      <td>2.328418e+11</td>\n",
              "    </tr>\n",
              "    <tr>\n",
              "      <th>3</th>\n",
              "      <td>4</td>\n",
              "      <td>2.068481e+11</td>\n",
              "    </tr>\n",
              "    <tr>\n",
              "      <th>4</th>\n",
              "      <td>5</td>\n",
              "      <td>1.822803e+11</td>\n",
              "    </tr>\n",
              "    <tr>\n",
              "      <th>5</th>\n",
              "      <td>6</td>\n",
              "      <td>1.628828e+11</td>\n",
              "    </tr>\n",
              "    <tr>\n",
              "      <th>6</th>\n",
              "      <td>7</td>\n",
              "      <td>1.452144e+11</td>\n",
              "    </tr>\n",
              "    <tr>\n",
              "      <th>7</th>\n",
              "      <td>8</td>\n",
              "      <td>1.328786e+11</td>\n",
              "    </tr>\n",
              "    <tr>\n",
              "      <th>8</th>\n",
              "      <td>9</td>\n",
              "      <td>1.241687e+11</td>\n",
              "    </tr>\n",
              "    <tr>\n",
              "      <th>9</th>\n",
              "      <td>10</td>\n",
              "      <td>1.161548e+11</td>\n",
              "    </tr>\n",
              "    <tr>\n",
              "      <th>10</th>\n",
              "      <td>11</td>\n",
              "      <td>1.096088e+11</td>\n",
              "    </tr>\n",
              "    <tr>\n",
              "      <th>11</th>\n",
              "      <td>12</td>\n",
              "      <td>1.028508e+11</td>\n",
              "    </tr>\n",
              "    <tr>\n",
              "      <th>12</th>\n",
              "      <td>13</td>\n",
              "      <td>9.808657e+10</td>\n",
              "    </tr>\n",
              "    <tr>\n",
              "      <th>13</th>\n",
              "      <td>14</td>\n",
              "      <td>9.428761e+10</td>\n",
              "    </tr>\n",
              "    <tr>\n",
              "      <th>14</th>\n",
              "      <td>15</td>\n",
              "      <td>9.108177e+10</td>\n",
              "    </tr>\n",
              "    <tr>\n",
              "      <th>15</th>\n",
              "      <td>16</td>\n",
              "      <td>8.817613e+10</td>\n",
              "    </tr>\n",
              "    <tr>\n",
              "      <th>16</th>\n",
              "      <td>17</td>\n",
              "      <td>8.516781e+10</td>\n",
              "    </tr>\n",
              "    <tr>\n",
              "      <th>17</th>\n",
              "      <td>18</td>\n",
              "      <td>8.257749e+10</td>\n",
              "    </tr>\n",
              "    <tr>\n",
              "      <th>18</th>\n",
              "      <td>19</td>\n",
              "      <td>7.936338e+10</td>\n",
              "    </tr>\n",
              "    <tr>\n",
              "      <th>19</th>\n",
              "      <td>20</td>\n",
              "      <td>7.750347e+10</td>\n",
              "    </tr>\n",
              "  </tbody>\n",
              "</table>\n",
              "</div>"
            ],
            "text/plain": [
              "    num_clusters  cluster_errors\n",
              "0              1    3.931530e+11\n",
              "1              2    2.793412e+11\n",
              "2              3    2.328418e+11\n",
              "3              4    2.068481e+11\n",
              "4              5    1.822803e+11\n",
              "5              6    1.628828e+11\n",
              "6              7    1.452144e+11\n",
              "7              8    1.328786e+11\n",
              "8              9    1.241687e+11\n",
              "9             10    1.161548e+11\n",
              "10            11    1.096088e+11\n",
              "11            12    1.028508e+11\n",
              "12            13    9.808657e+10\n",
              "13            14    9.428761e+10\n",
              "14            15    9.108177e+10\n",
              "15            16    8.817613e+10\n",
              "16            17    8.516781e+10\n",
              "17            18    8.257749e+10\n",
              "18            19    7.936338e+10\n",
              "19            20    7.750347e+10"
            ]
          },
          "metadata": {
            "tags": []
          },
          "execution_count": 15
        }
      ]
    },
    {
      "cell_type": "code",
      "metadata": {
        "colab": {
          "base_uri": "https://localhost:8080/",
          "height": 403
        },
        "id": "-xwdW9Ux6TsT",
        "outputId": "cbdf184e-ef06-4012-85ce-dca1ecc7283a"
      },
      "source": [
        "%matplotlib inline\n",
        "import matplotlib.pyplot as plt\n",
        "plt.figure(figsize=(12,6))\n",
        "plt.plot( clusters_df.num_clusters, clusters_df.cluster_errors, marker = \"o\" )"
      ],
      "execution_count": null,
      "outputs": [
        {
          "output_type": "execute_result",
          "data": {
            "text/plain": [
              "[<matplotlib.lines.Line2D at 0x7f2fc1989b50>]"
            ]
          },
          "metadata": {
            "tags": []
          },
          "execution_count": 16
        },
        {
          "output_type": "display_data",
          "data": {
            "image/png": "[encoded data removed]",
            "text/plain": [
              "<Figure size 864x432 with 1 Axes>"
            ]
          },
          "metadata": {
            "tags": [],
            "needs_background": "light"
          }
        }
      ]
    },
    {
      "cell_type": "markdown",
      "metadata": {
        "id": "xWMDXdxylnXz"
      },
      "source": [
        "Advanced data preparation: Build an ‘enriched’ customer profile by deriving “intelligent”\n",
        "KPIs such as:\n",
        "\n",
        "1. Monthly average purchase and cash advance amount\n",
        "2. Purchases by type (one-off, installments)\n",
        "3. Average amount per purchase and cash advance transaction,\n",
        "4. Limit usage (balance to credit limit ratio),\n",
        "5. Payments to minimum payments ratio etc (think of more types of similar analysis)"
      ]
    },
    {
      "cell_type": "code",
      "metadata": {
        "colab": {
          "base_uri": "https://localhost:8080/"
        },
        "id": "hy8WbLHctr48",
        "outputId": "0dab6453-49ce-4fa5-b8ec-43e7190e905d"
      },
      "source": [
        "df1.columns"
      ],
      "execution_count": null,
      "outputs": [
        {
          "output_type": "execute_result",
          "data": {
            "text/plain": [
              "Index(['BALANCE', 'BALANCE_FREQUENCY', 'PURCHASES', 'ONEOFF_PURCHASES',\n",
              "       'INSTALLMENTS_PURCHASES', 'CASH_ADVANCE', 'PURCHASES_FREQUENCY',\n",
              "       'ONEOFF_PURCHASES_FREQUENCY', 'PURCHASES_INSTALLMENTS_FREQUENCY',\n",
              "       'CASH_ADVANCE_FREQUENCY', 'CASH_ADVANCE_TRX', 'PURCHASES_TRX',\n",
              "       'CREDIT_LIMIT', 'PAYMENTS', 'MINIMUM_PAYMENTS', 'PRC_FULL_PAYMENT',\n",
              "       'TENURE'],\n",
              "      dtype='object')"
            ]
          },
          "metadata": {
            "tags": []
          },
          "execution_count": 37
        }
      ]
    },
    {
      "cell_type": "code",
      "metadata": {
        "id": "Skqx4Bd1Hq2t"
      },
      "source": [
        ""
      ],
      "execution_count": null,
      "outputs": []
    },
    {
      "cell_type": "code",
      "metadata": {
        "id": "VrVCtGXs6oCj"
      },
      "source": [
        "df1[\"monthly_purchase_avg\"] = df1[\"PURCHASES\"]/df1[\"TENURE\"]"
      ],
      "execution_count": null,
      "outputs": []
    },
    {
      "cell_type": "code",
      "metadata": {
        "id": "q0NfCxmatchx"
      },
      "source": [
        "df1[\"cash_advance_amt\"] = df1[\"CASH_ADVANCE\"]/df1[\"TENURE\"]"
      ],
      "execution_count": null,
      "outputs": []
    },
    {
      "cell_type": "code",
      "metadata": {
        "colab": {
          "base_uri": "https://localhost:8080/"
        },
        "id": "V3PVlMcb0WXD",
        "outputId": "8d2d3217-b2ee-4a54-fc73-5a9d0bf45e45"
      },
      "source": [
        "df1[\"avg_amt_per_purchase\"] = df1[\"PURCHASES\"]/df1[\"PURCHASES_TRX\"]\n",
        "df1[\"avg_amt_per_purchase\"].fillna(0,inplace=True)\n",
        "df1[\"avg_amt_per_purchase\"].head()"
      ],
      "execution_count": null,
      "outputs": [
        {
          "output_type": "execute_result",
          "data": {
            "text/plain": [
              "0      47.700000\n",
              "1       0.000000\n",
              "2      64.430833\n",
              "3    1499.000000\n",
              "4      16.000000\n",
              "Name: avg_amt_per_purchase, dtype: float64"
            ]
          },
          "metadata": {
            "tags": []
          },
          "execution_count": 40
        }
      ]
    },
    {
      "cell_type": "code",
      "metadata": {
        "colab": {
          "base_uri": "https://localhost:8080/"
        },
        "id": "X5At9h0Z06In",
        "outputId": "5b276dec-d200-4907-dd8e-a1d296c8a0bd"
      },
      "source": [
        "df1[\"avg_cash_advanced_transactions\"]  = df1[\"CASH_ADVANCE\"]/df1[\"CASH_ADVANCE_TRX\"]\n",
        "df1[\"avg_cash_advanced_transactions\"].fillna(0,inplace=True)\n",
        "df1[\"avg_cash_advanced_transactions\"].head()\n"
      ],
      "execution_count": null,
      "outputs": [
        {
          "output_type": "execute_result",
          "data": {
            "text/plain": [
              "0       0.000000\n",
              "1    1610.736371\n",
              "2       0.000000\n",
              "3     205.788017\n",
              "4       0.000000\n",
              "Name: avg_cash_advanced_transactions, dtype: float64"
            ]
          },
          "metadata": {
            "tags": []
          },
          "execution_count": 41
        }
      ]
    },
    {
      "cell_type": "code",
      "metadata": {
        "colab": {
          "base_uri": "https://localhost:8080/"
        },
        "id": "0_YUBnHD0pYV",
        "outputId": "b4c58a14-c4d6-41d0-cbed-575fbe102637"
      },
      "source": [
        "df1[\"limit_usage\"] = df1[\"BALANCE\"]/df1[\"CREDIT_LIMIT\"]\n",
        "df1[\"limit_usage\"].head()"
      ],
      "execution_count": null,
      "outputs": [
        {
          "output_type": "execute_result",
          "data": {
            "text/plain": [
              "0    0.040901\n",
              "1    0.457495\n",
              "2    0.332687\n",
              "3    0.222223\n",
              "4    0.681429\n",
              "Name: limit_usage, dtype: float64"
            ]
          },
          "metadata": {
            "tags": []
          },
          "execution_count": 42
        }
      ]
    },
    {
      "cell_type": "markdown",
      "metadata": {
        "id": "1KvqCOkV2Ppn"
      },
      "source": [
        "payment to min payment ratio"
      ]
    },
    {
      "cell_type": "code",
      "metadata": {
        "colab": {
          "base_uri": "https://localhost:8080/"
        },
        "id": "wOGCZe8O2OFV",
        "outputId": "cca8af40-6391-49e5-97c5-675cbd772f33"
      },
      "source": [
        "df1[\"payment_to_minpay\"] = df1[\"PAYMENTS\"]/df1[\"MINIMUM_PAYMENTS\"]\n",
        "df1[\"payment_to_minpay\"].head()"
      ],
      "execution_count": null,
      "outputs": [
        {
          "output_type": "execute_result",
          "data": {
            "text/plain": [
              "0    1.446508\n",
              "1    3.826241\n",
              "2    0.991682\n",
              "3    0.000000\n",
              "4    2.771075\n",
              "Name: payment_to_minpay, dtype: float64"
            ]
          },
          "metadata": {
            "tags": []
          },
          "execution_count": 43
        }
      ]
    },
    {
      "cell_type": "code",
      "metadata": {
        "colab": {
          "base_uri": "https://localhost:8080/",
          "height": 408
        },
        "id": "ZJ_eHNmz2tNi",
        "outputId": "a58a02c9-afed-431f-dae6-a68dc4fe427a"
      },
      "source": [
        "print(df1.shape)\n",
        "print(df1.columns)\n",
        "#print(df1.isnull().sum())\n",
        "df1.head()\n"
      ],
      "execution_count": null,
      "outputs": [
        {
          "output_type": "stream",
          "text": [
            "(8950, 23)\n",
            "Index(['BALANCE', 'BALANCE_FREQUENCY', 'PURCHASES', 'ONEOFF_PURCHASES',\n",
            "       'INSTALLMENTS_PURCHASES', 'CASH_ADVANCE', 'PURCHASES_FREQUENCY',\n",
            "       'ONEOFF_PURCHASES_FREQUENCY', 'PURCHASES_INSTALLMENTS_FREQUENCY',\n",
            "       'CASH_ADVANCE_FREQUENCY', 'CASH_ADVANCE_TRX', 'PURCHASES_TRX',\n",
            "       'CREDIT_LIMIT', 'PAYMENTS', 'MINIMUM_PAYMENTS', 'PRC_FULL_PAYMENT',\n",
            "       'TENURE', 'monthly_purchase_avg', 'cash_advance_amt',\n",
            "       'avg_amt_per_purchase', 'avg_cash_advanced_transactions', 'limit_usage',\n",
            "       'payment_to_minpay'],\n",
            "      dtype='object')\n"
          ],
          "name": "stdout"
        },
        {
          "output_type": "execute_result",
          "data": {
            "text/html": [
              "<div>\n",
              "<style scoped>\n",
              "    .dataframe tbody tr th:only-of-type {\n",
              "        vertical-align: middle;\n",
              "    }\n",
              "\n",
              "    .dataframe tbody tr th {\n",
              "        vertical-align: top;\n",
              "    }\n",
              "\n",
              "    .dataframe thead th {\n",
              "        text-align: right;\n",
              "    }\n",
              "</style>\n",
              "<table border=\"1\" class=\"dataframe\">\n",
              "  <thead>\n",
              "    <tr style=\"text-align: right;\">\n",
              "      <th></th>\n",
              "      <th>BALANCE</th>\n",
              "      <th>BALANCE_FREQUENCY</th>\n",
              "      <th>PURCHASES</th>\n",
              "      <th>ONEOFF_PURCHASES</th>\n",
              "      <th>INSTALLMENTS_PURCHASES</th>\n",
              "      <th>CASH_ADVANCE</th>\n",
              "      <th>PURCHASES_FREQUENCY</th>\n",
              "      <th>ONEOFF_PURCHASES_FREQUENCY</th>\n",
              "      <th>PURCHASES_INSTALLMENTS_FREQUENCY</th>\n",
              "      <th>CASH_ADVANCE_FREQUENCY</th>\n",
              "      <th>CASH_ADVANCE_TRX</th>\n",
              "      <th>PURCHASES_TRX</th>\n",
              "      <th>CREDIT_LIMIT</th>\n",
              "      <th>PAYMENTS</th>\n",
              "      <th>MINIMUM_PAYMENTS</th>\n",
              "      <th>PRC_FULL_PAYMENT</th>\n",
              "      <th>TENURE</th>\n",
              "      <th>monthly_purchase_avg</th>\n",
              "      <th>cash_advance_amt</th>\n",
              "      <th>avg_amt_per_purchase</th>\n",
              "      <th>avg_cash_advanced_transactions</th>\n",
              "      <th>limit_usage</th>\n",
              "      <th>payment_to_minpay</th>\n",
              "    </tr>\n",
              "  </thead>\n",
              "  <tbody>\n",
              "    <tr>\n",
              "      <th>0</th>\n",
              "      <td>40.900749</td>\n",
              "      <td>0.818182</td>\n",
              "      <td>95.40</td>\n",
              "      <td>0.00</td>\n",
              "      <td>95.4</td>\n",
              "      <td>0.000000</td>\n",
              "      <td>0.166667</td>\n",
              "      <td>0.000000</td>\n",
              "      <td>0.083333</td>\n",
              "      <td>0.000000</td>\n",
              "      <td>0</td>\n",
              "      <td>2</td>\n",
              "      <td>1000.0</td>\n",
              "      <td>201.802084</td>\n",
              "      <td>139.509787</td>\n",
              "      <td>0.000000</td>\n",
              "      <td>12</td>\n",
              "      <td>7.950000</td>\n",
              "      <td>0.000000</td>\n",
              "      <td>47.700000</td>\n",
              "      <td>0.000000</td>\n",
              "      <td>0.040901</td>\n",
              "      <td>1.446508</td>\n",
              "    </tr>\n",
              "    <tr>\n",
              "      <th>1</th>\n",
              "      <td>3202.467416</td>\n",
              "      <td>0.909091</td>\n",
              "      <td>0.00</td>\n",
              "      <td>0.00</td>\n",
              "      <td>0.0</td>\n",
              "      <td>6442.945483</td>\n",
              "      <td>0.000000</td>\n",
              "      <td>0.000000</td>\n",
              "      <td>0.000000</td>\n",
              "      <td>0.250000</td>\n",
              "      <td>4</td>\n",
              "      <td>0</td>\n",
              "      <td>7000.0</td>\n",
              "      <td>4103.032597</td>\n",
              "      <td>1072.340217</td>\n",
              "      <td>0.222222</td>\n",
              "      <td>12</td>\n",
              "      <td>0.000000</td>\n",
              "      <td>536.912124</td>\n",
              "      <td>0.000000</td>\n",
              "      <td>1610.736371</td>\n",
              "      <td>0.457495</td>\n",
              "      <td>3.826241</td>\n",
              "    </tr>\n",
              "    <tr>\n",
              "      <th>2</th>\n",
              "      <td>2495.148862</td>\n",
              "      <td>1.000000</td>\n",
              "      <td>773.17</td>\n",
              "      <td>773.17</td>\n",
              "      <td>0.0</td>\n",
              "      <td>0.000000</td>\n",
              "      <td>1.000000</td>\n",
              "      <td>1.000000</td>\n",
              "      <td>0.000000</td>\n",
              "      <td>0.000000</td>\n",
              "      <td>0</td>\n",
              "      <td>12</td>\n",
              "      <td>7500.0</td>\n",
              "      <td>622.066742</td>\n",
              "      <td>627.284787</td>\n",
              "      <td>0.000000</td>\n",
              "      <td>12</td>\n",
              "      <td>64.430833</td>\n",
              "      <td>0.000000</td>\n",
              "      <td>64.430833</td>\n",
              "      <td>0.000000</td>\n",
              "      <td>0.332687</td>\n",
              "      <td>0.991682</td>\n",
              "    </tr>\n",
              "    <tr>\n",
              "      <th>3</th>\n",
              "      <td>1666.670542</td>\n",
              "      <td>0.636364</td>\n",
              "      <td>1499.00</td>\n",
              "      <td>1499.00</td>\n",
              "      <td>0.0</td>\n",
              "      <td>205.788017</td>\n",
              "      <td>0.083333</td>\n",
              "      <td>0.083333</td>\n",
              "      <td>0.000000</td>\n",
              "      <td>0.083333</td>\n",
              "      <td>1</td>\n",
              "      <td>1</td>\n",
              "      <td>7500.0</td>\n",
              "      <td>0.000000</td>\n",
              "      <td>312.343947</td>\n",
              "      <td>0.000000</td>\n",
              "      <td>12</td>\n",
              "      <td>124.916667</td>\n",
              "      <td>17.149001</td>\n",
              "      <td>1499.000000</td>\n",
              "      <td>205.788017</td>\n",
              "      <td>0.222223</td>\n",
              "      <td>0.000000</td>\n",
              "    </tr>\n",
              "    <tr>\n",
              "      <th>4</th>\n",
              "      <td>817.714335</td>\n",
              "      <td>1.000000</td>\n",
              "      <td>16.00</td>\n",
              "      <td>16.00</td>\n",
              "      <td>0.0</td>\n",
              "      <td>0.000000</td>\n",
              "      <td>0.083333</td>\n",
              "      <td>0.083333</td>\n",
              "      <td>0.000000</td>\n",
              "      <td>0.000000</td>\n",
              "      <td>0</td>\n",
              "      <td>1</td>\n",
              "      <td>1200.0</td>\n",
              "      <td>678.334763</td>\n",
              "      <td>244.791237</td>\n",
              "      <td>0.000000</td>\n",
              "      <td>12</td>\n",
              "      <td>1.333333</td>\n",
              "      <td>0.000000</td>\n",
              "      <td>16.000000</td>\n",
              "      <td>0.000000</td>\n",
              "      <td>0.681429</td>\n",
              "      <td>2.771075</td>\n",
              "    </tr>\n",
              "  </tbody>\n",
              "</table>\n",
              "</div>"
            ],
            "text/plain": [
              "       BALANCE  BALANCE_FREQUENCY  ...  limit_usage  payment_to_minpay\n",
              "0    40.900749           0.818182  ...     0.040901           1.446508\n",
              "1  3202.467416           0.909091  ...     0.457495           3.826241\n",
              "2  2495.148862           1.000000  ...     0.332687           0.991682\n",
              "3  1666.670542           0.636364  ...     0.222223           0.000000\n",
              "4   817.714335           1.000000  ...     0.681429           2.771075\n",
              "\n",
              "[5 rows x 23 columns]"
            ]
          },
          "metadata": {
            "tags": []
          },
          "execution_count": 44
        }
      ]
    },
    {
      "cell_type": "code",
      "metadata": {
        "id": "u7p2Nr7EsdW5"
      },
      "source": [
        ""
      ],
      "execution_count": null,
      "outputs": []
    },
    {
      "cell_type": "code",
      "metadata": {
        "id": "MyMYXX0L26SL"
      },
      "source": [
        ""
      ],
      "execution_count": null,
      "outputs": []
    },
    {
      "cell_type": "markdown",
      "metadata": {
        "id": "Pqaa2eBZ27_G"
      },
      "source": [
        "there are 2 categories of payments find out in initial observation\n",
        "1. installments payments\n",
        "2. oneoff payments(whole payment at one time)"
      ]
    },
    {
      "cell_type": "code",
      "metadata": {
        "colab": {
          "base_uri": "https://localhost:8080/"
        },
        "id": "GJjJ4n7OpCsy",
        "outputId": "bb91a49b-82e9-4f29-bc66-fc64dca19dbd"
      },
      "source": [
        "df1[(df1[\"INSTALLMENTS_PURCHASES\"]>0)].shape"
      ],
      "execution_count": null,
      "outputs": [
        {
          "output_type": "execute_result",
          "data": {
            "text/plain": [
              "(5034, 23)"
            ]
          },
          "metadata": {
            "tags": []
          },
          "execution_count": 45
        }
      ]
    },
    {
      "cell_type": "code",
      "metadata": {
        "colab": {
          "base_uri": "https://localhost:8080/"
        },
        "id": "D8ZkOFwdt5JS",
        "outputId": "7a0caf28-5f45-41da-f937-0d0323a01f91"
      },
      "source": [
        "df1[(df1[\"ONEOFF_PURCHASES\"]>0)].shape"
      ],
      "execution_count": null,
      "outputs": [
        {
          "output_type": "execute_result",
          "data": {
            "text/plain": [
              "(4648, 23)"
            ]
          },
          "metadata": {
            "tags": []
          },
          "execution_count": 46
        }
      ]
    },
    {
      "cell_type": "code",
      "metadata": {
        "id": "DjTF0YrM3luQ"
      },
      "source": [
        "for i in range(len(df1[\"INSTALLMENTS_PURCHASES\"])):\n",
        "  if df1[\"INSTALLMENTS_PURCHASES\"][i]==0:\n",
        "    df1[\"installment\"][i]=0\n",
        "  else:\n",
        "    df1[\"installment\"][i]=1\n"
      ],
      "execution_count": null,
      "outputs": []
    },
    {
      "cell_type": "code",
      "metadata": {
        "id": "2Nklxavi7Fm4"
      },
      "source": [
        "df1[\"one_off\"]=0"
      ],
      "execution_count": null,
      "outputs": []
    },
    {
      "cell_type": "code",
      "metadata": {
        "id": "EjqiZrPK64LY"
      },
      "source": [
        "for i in range(len(df1[\"ONEOFF_PURCHASES\"])):\n",
        "  if df1[\"ONEOFF_PURCHASES\"][i]==0:\n",
        "    df1[\"one_off\"][i]=0\n",
        "  else:\n",
        "    df1[\"one_off\"][i]=1"
      ],
      "execution_count": null,
      "outputs": []
    },
    {
      "cell_type": "code",
      "metadata": {
        "colab": {
          "base_uri": "https://localhost:8080/"
        },
        "id": "5OyHhwoG6DDx",
        "outputId": "36279f2a-d5c5-45b5-8422-0fbf0031b79d"
      },
      "source": [
        "df1[\"installment\"].value_counts()"
      ],
      "execution_count": null,
      "outputs": [
        {
          "output_type": "execute_result",
          "data": {
            "text/plain": [
              "1    5034\n",
              "0    3916\n",
              "Name: installment, dtype: int64"
            ]
          },
          "metadata": {
            "tags": []
          },
          "execution_count": 60
        }
      ]
    },
    {
      "cell_type": "code",
      "metadata": {
        "id": "4IbwZ6kr7J58",
        "colab": {
          "base_uri": "https://localhost:8080/"
        },
        "outputId": "c77f9c70-3131-453d-fe13-3b4462ced695"
      },
      "source": [
        "df1[\"one_off\"].value_counts()"
      ],
      "execution_count": null,
      "outputs": [
        {
          "output_type": "execute_result",
          "data": {
            "text/plain": [
              "1    4648\n",
              "0    4302\n",
              "Name: one_off, dtype: int64"
            ]
          },
          "metadata": {
            "tags": []
          },
          "execution_count": 65
        }
      ]
    },
    {
      "cell_type": "code",
      "metadata": {
        "id": "yOg1bZAq7SMQ",
        "colab": {
          "base_uri": "https://localhost:8080/",
          "height": 383
        },
        "outputId": "8af515e4-9e45-46e4-9e6a-b3f0cd167999"
      },
      "source": [
        "df1.head(10)"
      ],
      "execution_count": null,
      "outputs": [
        {
          "output_type": "execute_result",
          "data": {
            "text/html": [
              "<div>\n",
              "<style scoped>\n",
              "    .dataframe tbody tr th:only-of-type {\n",
              "        vertical-align: middle;\n",
              "    }\n",
              "\n",
              "    .dataframe tbody tr th {\n",
              "        vertical-align: top;\n",
              "    }\n",
              "\n",
              "    .dataframe thead th {\n",
              "        text-align: right;\n",
              "    }\n",
              "</style>\n",
              "<table border=\"1\" class=\"dataframe\">\n",
              "  <thead>\n",
              "    <tr style=\"text-align: right;\">\n",
              "      <th></th>\n",
              "      <th>BALANCE</th>\n",
              "      <th>BALANCE_FREQUENCY</th>\n",
              "      <th>PURCHASES</th>\n",
              "      <th>ONEOFF_PURCHASES</th>\n",
              "      <th>INSTALLMENTS_PURCHASES</th>\n",
              "      <th>CASH_ADVANCE</th>\n",
              "      <th>PURCHASES_FREQUENCY</th>\n",
              "      <th>ONEOFF_PURCHASES_FREQUENCY</th>\n",
              "      <th>PURCHASES_INSTALLMENTS_FREQUENCY</th>\n",
              "      <th>CASH_ADVANCE_FREQUENCY</th>\n",
              "      <th>CASH_ADVANCE_TRX</th>\n",
              "      <th>PURCHASES_TRX</th>\n",
              "      <th>CREDIT_LIMIT</th>\n",
              "      <th>PAYMENTS</th>\n",
              "      <th>MINIMUM_PAYMENTS</th>\n",
              "      <th>PRC_FULL_PAYMENT</th>\n",
              "      <th>TENURE</th>\n",
              "      <th>monthly_purchase_avg</th>\n",
              "      <th>cash_advance_amt</th>\n",
              "      <th>avg_amt_per_purchase</th>\n",
              "      <th>avg_cash_advanced_transactions</th>\n",
              "      <th>limit_usage</th>\n",
              "      <th>payment_to_minpay</th>\n",
              "      <th>installment</th>\n",
              "      <th>one_off</th>\n",
              "    </tr>\n",
              "  </thead>\n",
              "  <tbody>\n",
              "    <tr>\n",
              "      <th>0</th>\n",
              "      <td>40.900749</td>\n",
              "      <td>0.818182</td>\n",
              "      <td>95.40</td>\n",
              "      <td>0.00</td>\n",
              "      <td>95.40</td>\n",
              "      <td>0.000000</td>\n",
              "      <td>0.166667</td>\n",
              "      <td>0.000000</td>\n",
              "      <td>0.083333</td>\n",
              "      <td>0.000000</td>\n",
              "      <td>0</td>\n",
              "      <td>2</td>\n",
              "      <td>1000.0</td>\n",
              "      <td>201.802084</td>\n",
              "      <td>139.509787</td>\n",
              "      <td>0.000000</td>\n",
              "      <td>12</td>\n",
              "      <td>7.950000</td>\n",
              "      <td>0.000000</td>\n",
              "      <td>47.700000</td>\n",
              "      <td>0.000000</td>\n",
              "      <td>0.040901</td>\n",
              "      <td>1.446508</td>\n",
              "      <td>1</td>\n",
              "      <td>0</td>\n",
              "    </tr>\n",
              "    <tr>\n",
              "      <th>1</th>\n",
              "      <td>3202.467416</td>\n",
              "      <td>0.909091</td>\n",
              "      <td>0.00</td>\n",
              "      <td>0.00</td>\n",
              "      <td>0.00</td>\n",
              "      <td>6442.945483</td>\n",
              "      <td>0.000000</td>\n",
              "      <td>0.000000</td>\n",
              "      <td>0.000000</td>\n",
              "      <td>0.250000</td>\n",
              "      <td>4</td>\n",
              "      <td>0</td>\n",
              "      <td>7000.0</td>\n",
              "      <td>4103.032597</td>\n",
              "      <td>1072.340217</td>\n",
              "      <td>0.222222</td>\n",
              "      <td>12</td>\n",
              "      <td>0.000000</td>\n",
              "      <td>536.912124</td>\n",
              "      <td>0.000000</td>\n",
              "      <td>1610.736371</td>\n",
              "      <td>0.457495</td>\n",
              "      <td>3.826241</td>\n",
              "      <td>0</td>\n",
              "      <td>0</td>\n",
              "    </tr>\n",
              "    <tr>\n",
              "      <th>2</th>\n",
              "      <td>2495.148862</td>\n",
              "      <td>1.000000</td>\n",
              "      <td>773.17</td>\n",
              "      <td>773.17</td>\n",
              "      <td>0.00</td>\n",
              "      <td>0.000000</td>\n",
              "      <td>1.000000</td>\n",
              "      <td>1.000000</td>\n",
              "      <td>0.000000</td>\n",
              "      <td>0.000000</td>\n",
              "      <td>0</td>\n",
              "      <td>12</td>\n",
              "      <td>7500.0</td>\n",
              "      <td>622.066742</td>\n",
              "      <td>627.284787</td>\n",
              "      <td>0.000000</td>\n",
              "      <td>12</td>\n",
              "      <td>64.430833</td>\n",
              "      <td>0.000000</td>\n",
              "      <td>64.430833</td>\n",
              "      <td>0.000000</td>\n",
              "      <td>0.332687</td>\n",
              "      <td>0.991682</td>\n",
              "      <td>0</td>\n",
              "      <td>1</td>\n",
              "    </tr>\n",
              "    <tr>\n",
              "      <th>3</th>\n",
              "      <td>1666.670542</td>\n",
              "      <td>0.636364</td>\n",
              "      <td>1499.00</td>\n",
              "      <td>1499.00</td>\n",
              "      <td>0.00</td>\n",
              "      <td>205.788017</td>\n",
              "      <td>0.083333</td>\n",
              "      <td>0.083333</td>\n",
              "      <td>0.000000</td>\n",
              "      <td>0.083333</td>\n",
              "      <td>1</td>\n",
              "      <td>1</td>\n",
              "      <td>7500.0</td>\n",
              "      <td>0.000000</td>\n",
              "      <td>312.343947</td>\n",
              "      <td>0.000000</td>\n",
              "      <td>12</td>\n",
              "      <td>124.916667</td>\n",
              "      <td>17.149001</td>\n",
              "      <td>1499.000000</td>\n",
              "      <td>205.788017</td>\n",
              "      <td>0.222223</td>\n",
              "      <td>0.000000</td>\n",
              "      <td>0</td>\n",
              "      <td>1</td>\n",
              "    </tr>\n",
              "    <tr>\n",
              "      <th>4</th>\n",
              "      <td>817.714335</td>\n",
              "      <td>1.000000</td>\n",
              "      <td>16.00</td>\n",
              "      <td>16.00</td>\n",
              "      <td>0.00</td>\n",
              "      <td>0.000000</td>\n",
              "      <td>0.083333</td>\n",
              "      <td>0.083333</td>\n",
              "      <td>0.000000</td>\n",
              "      <td>0.000000</td>\n",
              "      <td>0</td>\n",
              "      <td>1</td>\n",
              "      <td>1200.0</td>\n",
              "      <td>678.334763</td>\n",
              "      <td>244.791237</td>\n",
              "      <td>0.000000</td>\n",
              "      <td>12</td>\n",
              "      <td>1.333333</td>\n",
              "      <td>0.000000</td>\n",
              "      <td>16.000000</td>\n",
              "      <td>0.000000</td>\n",
              "      <td>0.681429</td>\n",
              "      <td>2.771075</td>\n",
              "      <td>0</td>\n",
              "      <td>1</td>\n",
              "    </tr>\n",
              "    <tr>\n",
              "      <th>5</th>\n",
              "      <td>1809.828751</td>\n",
              "      <td>1.000000</td>\n",
              "      <td>1333.28</td>\n",
              "      <td>0.00</td>\n",
              "      <td>1333.28</td>\n",
              "      <td>0.000000</td>\n",
              "      <td>0.666667</td>\n",
              "      <td>0.000000</td>\n",
              "      <td>0.583333</td>\n",
              "      <td>0.000000</td>\n",
              "      <td>0</td>\n",
              "      <td>8</td>\n",
              "      <td>1800.0</td>\n",
              "      <td>1400.057770</td>\n",
              "      <td>2407.246035</td>\n",
              "      <td>0.000000</td>\n",
              "      <td>12</td>\n",
              "      <td>111.106667</td>\n",
              "      <td>0.000000</td>\n",
              "      <td>166.660000</td>\n",
              "      <td>0.000000</td>\n",
              "      <td>1.005460</td>\n",
              "      <td>0.581601</td>\n",
              "      <td>1</td>\n",
              "      <td>0</td>\n",
              "    </tr>\n",
              "    <tr>\n",
              "      <th>6</th>\n",
              "      <td>627.260806</td>\n",
              "      <td>1.000000</td>\n",
              "      <td>7091.01</td>\n",
              "      <td>6402.63</td>\n",
              "      <td>688.38</td>\n",
              "      <td>0.000000</td>\n",
              "      <td>1.000000</td>\n",
              "      <td>1.000000</td>\n",
              "      <td>1.000000</td>\n",
              "      <td>0.000000</td>\n",
              "      <td>0</td>\n",
              "      <td>64</td>\n",
              "      <td>13500.0</td>\n",
              "      <td>6354.314328</td>\n",
              "      <td>198.065894</td>\n",
              "      <td>1.000000</td>\n",
              "      <td>12</td>\n",
              "      <td>590.917500</td>\n",
              "      <td>0.000000</td>\n",
              "      <td>110.797031</td>\n",
              "      <td>0.000000</td>\n",
              "      <td>0.046464</td>\n",
              "      <td>32.081820</td>\n",
              "      <td>1</td>\n",
              "      <td>1</td>\n",
              "    </tr>\n",
              "    <tr>\n",
              "      <th>7</th>\n",
              "      <td>1823.652743</td>\n",
              "      <td>1.000000</td>\n",
              "      <td>436.20</td>\n",
              "      <td>0.00</td>\n",
              "      <td>436.20</td>\n",
              "      <td>0.000000</td>\n",
              "      <td>1.000000</td>\n",
              "      <td>0.000000</td>\n",
              "      <td>1.000000</td>\n",
              "      <td>0.000000</td>\n",
              "      <td>0</td>\n",
              "      <td>12</td>\n",
              "      <td>2300.0</td>\n",
              "      <td>679.065082</td>\n",
              "      <td>532.033990</td>\n",
              "      <td>0.000000</td>\n",
              "      <td>12</td>\n",
              "      <td>36.350000</td>\n",
              "      <td>0.000000</td>\n",
              "      <td>36.350000</td>\n",
              "      <td>0.000000</td>\n",
              "      <td>0.792892</td>\n",
              "      <td>1.276357</td>\n",
              "      <td>1</td>\n",
              "      <td>0</td>\n",
              "    </tr>\n",
              "    <tr>\n",
              "      <th>8</th>\n",
              "      <td>1014.926473</td>\n",
              "      <td>1.000000</td>\n",
              "      <td>861.49</td>\n",
              "      <td>661.49</td>\n",
              "      <td>200.00</td>\n",
              "      <td>0.000000</td>\n",
              "      <td>0.333333</td>\n",
              "      <td>0.083333</td>\n",
              "      <td>0.250000</td>\n",
              "      <td>0.000000</td>\n",
              "      <td>0</td>\n",
              "      <td>5</td>\n",
              "      <td>7000.0</td>\n",
              "      <td>688.278568</td>\n",
              "      <td>311.963409</td>\n",
              "      <td>0.000000</td>\n",
              "      <td>12</td>\n",
              "      <td>71.790833</td>\n",
              "      <td>0.000000</td>\n",
              "      <td>172.298000</td>\n",
              "      <td>0.000000</td>\n",
              "      <td>0.144989</td>\n",
              "      <td>2.206280</td>\n",
              "      <td>1</td>\n",
              "      <td>1</td>\n",
              "    </tr>\n",
              "    <tr>\n",
              "      <th>9</th>\n",
              "      <td>152.225975</td>\n",
              "      <td>0.545455</td>\n",
              "      <td>1281.60</td>\n",
              "      <td>1281.60</td>\n",
              "      <td>0.00</td>\n",
              "      <td>0.000000</td>\n",
              "      <td>0.166667</td>\n",
              "      <td>0.166667</td>\n",
              "      <td>0.000000</td>\n",
              "      <td>0.000000</td>\n",
              "      <td>0</td>\n",
              "      <td>3</td>\n",
              "      <td>11000.0</td>\n",
              "      <td>1164.770591</td>\n",
              "      <td>100.302262</td>\n",
              "      <td>0.000000</td>\n",
              "      <td>12</td>\n",
              "      <td>106.800000</td>\n",
              "      <td>0.000000</td>\n",
              "      <td>427.200000</td>\n",
              "      <td>0.000000</td>\n",
              "      <td>0.013839</td>\n",
              "      <td>11.612605</td>\n",
              "      <td>0</td>\n",
              "      <td>1</td>\n",
              "    </tr>\n",
              "  </tbody>\n",
              "</table>\n",
              "</div>"
            ],
            "text/plain": [
              "       BALANCE  BALANCE_FREQUENCY  ...  installment  one_off\n",
              "0    40.900749           0.818182  ...            1        0\n",
              "1  3202.467416           0.909091  ...            0        0\n",
              "2  2495.148862           1.000000  ...            0        1\n",
              "3  1666.670542           0.636364  ...            0        1\n",
              "4   817.714335           1.000000  ...            0        1\n",
              "5  1809.828751           1.000000  ...            1        0\n",
              "6   627.260806           1.000000  ...            1        1\n",
              "7  1823.652743           1.000000  ...            1        0\n",
              "8  1014.926473           1.000000  ...            1        1\n",
              "9   152.225975           0.545455  ...            0        1\n",
              "\n",
              "[10 rows x 25 columns]"
            ]
          },
          "metadata": {
            "tags": []
          },
          "execution_count": 66
        }
      ]
    },
    {
      "cell_type": "code",
      "metadata": {
        "colab": {
          "base_uri": "https://localhost:8080/",
          "height": 298
        },
        "id": "oxmph7kJHIlQ",
        "outputId": "9a101b31-eeb4-41b7-be5f-851e5ed44f39"
      },
      "source": [
        "plt.scatter(df1['avg_amt_per_purchase'], df1['installment'])\n",
        "plt.xlabel('avg_amt_per_purchase')\n",
        "plt.ylabel('installment')"
      ],
      "execution_count": 106,
      "outputs": [
        {
          "output_type": "execute_result",
          "data": {
            "text/plain": [
              "Text(0, 0.5, 'installment')"
            ]
          },
          "metadata": {
            "tags": []
          },
          "execution_count": 106
        },
        {
          "output_type": "display_data",
          "data": {
            "image/png": "[encoded data removed]",
            "text/plain": [
              "<Figure size 432x288 with 1 Axes>"
            ]
          },
          "metadata": {
            "tags": [],
            "needs_background": "light"
          }
        }
      ]
    },
    {
      "cell_type": "code",
      "metadata": {
        "id": "jaeilvVDHYwi"
      },
      "source": [
        ""
      ],
      "execution_count": null,
      "outputs": []
    },
    {
      "cell_type": "code",
      "metadata": {
        "id": "F8EcsI9nHYtK"
      },
      "source": [
        ""
      ],
      "execution_count": null,
      "outputs": []
    },
    {
      "cell_type": "code",
      "metadata": {
        "id": "mUE3I05QHYRF"
      },
      "source": [
        ""
      ],
      "execution_count": null,
      "outputs": []
    },
    {
      "cell_type": "code",
      "metadata": {
        "colab": {
          "base_uri": "https://localhost:8080/",
          "height": 226
        },
        "id": "8DMwHTUdGDq5",
        "outputId": "8984f6f5-7560-4367-9838-bb6c37cc81d0"
      },
      "source": [
        "df2=df.copy()\n",
        "df2.drop([\"CUST_ID\"],axis=1,inplace=True)\n",
        "df2.head()"
      ],
      "execution_count": 99,
      "outputs": [
        {
          "output_type": "execute_result",
          "data": {
            "text/html": [
              "<div>\n",
              "<style scoped>\n",
              "    .dataframe tbody tr th:only-of-type {\n",
              "        vertical-align: middle;\n",
              "    }\n",
              "\n",
              "    .dataframe tbody tr th {\n",
              "        vertical-align: top;\n",
              "    }\n",
              "\n",
              "    .dataframe thead th {\n",
              "        text-align: right;\n",
              "    }\n",
              "</style>\n",
              "<table border=\"1\" class=\"dataframe\">\n",
              "  <thead>\n",
              "    <tr style=\"text-align: right;\">\n",
              "      <th></th>\n",
              "      <th>BALANCE</th>\n",
              "      <th>BALANCE_FREQUENCY</th>\n",
              "      <th>PURCHASES</th>\n",
              "      <th>ONEOFF_PURCHASES</th>\n",
              "      <th>INSTALLMENTS_PURCHASES</th>\n",
              "      <th>CASH_ADVANCE</th>\n",
              "      <th>PURCHASES_FREQUENCY</th>\n",
              "      <th>ONEOFF_PURCHASES_FREQUENCY</th>\n",
              "      <th>PURCHASES_INSTALLMENTS_FREQUENCY</th>\n",
              "      <th>CASH_ADVANCE_FREQUENCY</th>\n",
              "      <th>CASH_ADVANCE_TRX</th>\n",
              "      <th>PURCHASES_TRX</th>\n",
              "      <th>CREDIT_LIMIT</th>\n",
              "      <th>PAYMENTS</th>\n",
              "      <th>MINIMUM_PAYMENTS</th>\n",
              "      <th>PRC_FULL_PAYMENT</th>\n",
              "      <th>TENURE</th>\n",
              "    </tr>\n",
              "  </thead>\n",
              "  <tbody>\n",
              "    <tr>\n",
              "      <th>0</th>\n",
              "      <td>40.900749</td>\n",
              "      <td>0.818182</td>\n",
              "      <td>95.40</td>\n",
              "      <td>0.00</td>\n",
              "      <td>95.4</td>\n",
              "      <td>0.000000</td>\n",
              "      <td>0.166667</td>\n",
              "      <td>0.000000</td>\n",
              "      <td>0.083333</td>\n",
              "      <td>0.000000</td>\n",
              "      <td>0</td>\n",
              "      <td>2</td>\n",
              "      <td>1000.0</td>\n",
              "      <td>201.802084</td>\n",
              "      <td>139.509787</td>\n",
              "      <td>0.000000</td>\n",
              "      <td>12</td>\n",
              "    </tr>\n",
              "    <tr>\n",
              "      <th>1</th>\n",
              "      <td>3202.467416</td>\n",
              "      <td>0.909091</td>\n",
              "      <td>0.00</td>\n",
              "      <td>0.00</td>\n",
              "      <td>0.0</td>\n",
              "      <td>6442.945483</td>\n",
              "      <td>0.000000</td>\n",
              "      <td>0.000000</td>\n",
              "      <td>0.000000</td>\n",
              "      <td>0.250000</td>\n",
              "      <td>4</td>\n",
              "      <td>0</td>\n",
              "      <td>7000.0</td>\n",
              "      <td>4103.032597</td>\n",
              "      <td>1072.340217</td>\n",
              "      <td>0.222222</td>\n",
              "      <td>12</td>\n",
              "    </tr>\n",
              "    <tr>\n",
              "      <th>2</th>\n",
              "      <td>2495.148862</td>\n",
              "      <td>1.000000</td>\n",
              "      <td>773.17</td>\n",
              "      <td>773.17</td>\n",
              "      <td>0.0</td>\n",
              "      <td>0.000000</td>\n",
              "      <td>1.000000</td>\n",
              "      <td>1.000000</td>\n",
              "      <td>0.000000</td>\n",
              "      <td>0.000000</td>\n",
              "      <td>0</td>\n",
              "      <td>12</td>\n",
              "      <td>7500.0</td>\n",
              "      <td>622.066742</td>\n",
              "      <td>627.284787</td>\n",
              "      <td>0.000000</td>\n",
              "      <td>12</td>\n",
              "    </tr>\n",
              "    <tr>\n",
              "      <th>3</th>\n",
              "      <td>1666.670542</td>\n",
              "      <td>0.636364</td>\n",
              "      <td>1499.00</td>\n",
              "      <td>1499.00</td>\n",
              "      <td>0.0</td>\n",
              "      <td>205.788017</td>\n",
              "      <td>0.083333</td>\n",
              "      <td>0.083333</td>\n",
              "      <td>0.000000</td>\n",
              "      <td>0.083333</td>\n",
              "      <td>1</td>\n",
              "      <td>1</td>\n",
              "      <td>7500.0</td>\n",
              "      <td>0.000000</td>\n",
              "      <td>312.343947</td>\n",
              "      <td>0.000000</td>\n",
              "      <td>12</td>\n",
              "    </tr>\n",
              "    <tr>\n",
              "      <th>4</th>\n",
              "      <td>817.714335</td>\n",
              "      <td>1.000000</td>\n",
              "      <td>16.00</td>\n",
              "      <td>16.00</td>\n",
              "      <td>0.0</td>\n",
              "      <td>0.000000</td>\n",
              "      <td>0.083333</td>\n",
              "      <td>0.083333</td>\n",
              "      <td>0.000000</td>\n",
              "      <td>0.000000</td>\n",
              "      <td>0</td>\n",
              "      <td>1</td>\n",
              "      <td>1200.0</td>\n",
              "      <td>678.334763</td>\n",
              "      <td>244.791237</td>\n",
              "      <td>0.000000</td>\n",
              "      <td>12</td>\n",
              "    </tr>\n",
              "  </tbody>\n",
              "</table>\n",
              "</div>"
            ],
            "text/plain": [
              "       BALANCE  BALANCE_FREQUENCY  ...  PRC_FULL_PAYMENT  TENURE\n",
              "0    40.900749           0.818182  ...          0.000000      12\n",
              "1  3202.467416           0.909091  ...          0.222222      12\n",
              "2  2495.148862           1.000000  ...          0.000000      12\n",
              "3  1666.670542           0.636364  ...          0.000000      12\n",
              "4   817.714335           1.000000  ...          0.000000      12\n",
              "\n",
              "[5 rows x 17 columns]"
            ]
          },
          "metadata": {
            "tags": []
          },
          "execution_count": 99
        }
      ]
    },
    {
      "cell_type": "code",
      "metadata": {
        "colab": {
          "base_uri": "https://localhost:8080/",
          "height": 585
        },
        "id": "KwDLq59VtUBp",
        "outputId": "1ac2b4d1-4a87-4169-8088-7951fe578640"
      },
      "source": [
        "columns=['BALANCE_FREQUENCY',\n",
        " 'PURCHASES_FREQUENCY',\n",
        " 'ONEOFF_PURCHASES_FREQUENCY',\n",
        " 'PURCHASES_INSTALLMENTS_FREQUENCY',\n",
        " 'CASH_ADVANCE_FREQUENCY',\n",
        "'PRC_FULL_PAYMENT']\n",
        "df2[columns].hist(figsize=(10,8))\n",
        "plt.tight_layout()"
      ],
      "execution_count": 102,
      "outputs": [
        {
          "output_type": "display_data",
          "data": {
            "image/png": "[encoded data removed]",
            "text/plain": [
              "<Figure size 720x576 with 6 Axes>"
            ]
          },
          "metadata": {
            "tags": [],
            "needs_background": "light"
          }
        }
      ]
    },
    {
      "cell_type": "code",
      "metadata": {
        "colab": {
          "base_uri": "https://localhost:8080/",
          "height": 585
        },
        "id": "Y5msEL4SG-Qp",
        "outputId": "6751ba4d-322c-4412-97c0-8312af6fdb18"
      },
      "source": [
        "df2[['TENURE','CASH_ADVANCE_TRX', 'PURCHASES_TRX']].hist(figsize=(10,8))\n",
        "plt.tight_layout()"
      ],
      "execution_count": 103,
      "outputs": [
        {
          "output_type": "display_data",
          "data": {
            "image/png": "[encoded data removed]",
            "text/plain": [
              "<Figure size 720x576 with 4 Axes>"
            ]
          },
          "metadata": {
            "tags": [],
            "needs_background": "light"
          }
        }
      ]
    },
    {
      "cell_type": "code",
      "metadata": {
        "id": "jbR714h9GzLq"
      },
      "source": [
        "# plt.figure(figsize=(20,35))\n",
        "# plt.subplot(2,2,1)\n",
        "# plt.boxplot(df2[columns])\n",
        "# # for i in range(0,len(columns)):\n",
        "# #     plt.subplot(6, 3, i+1)\n",
        "# #     plt.boxplot(df2.columns[i])\n",
        "# #     plt.title(df2.columns[i])"
      ],
      "execution_count": null,
      "outputs": []
    },
    {
      "cell_type": "code",
      "metadata": {
        "colab": {
          "base_uri": "https://localhost:8080/",
          "height": 729
        },
        "id": "blweLsMNIaLh",
        "outputId": "60c9f008-b148-4cfd-db56-8530f40a9e07"
      },
      "source": [
        "df[['BALANCE_FREQUENCY',\n",
        " 'PURCHASES_FREQUENCY',\n",
        " 'ONEOFF_PURCHASES_FREQUENCY',\n",
        " 'PURCHASES_INSTALLMENTS_FREQUENCY',\n",
        " 'CASH_ADVANCE_FREQUENCY',\n",
        "'PRC_FULL_PAYMENT']].plot.box(figsize=(18,10),title='Frequency',legend=True);\n",
        "plt.tight_layout()"
      ],
      "execution_count": 113,
      "outputs": [
        {
          "output_type": "display_data",
          "data": {
            "image/png": "[encoded data removed]",
            "text/plain": [
              "<Figure size 1296x720 with 1 Axes>"
            ]
          },
          "metadata": {
            "tags": [],
            "needs_background": "light"
          }
        }
      ]
    },
    {
      "cell_type": "code",
      "metadata": {
        "id": "XGY38eqMIrYs"
      },
      "source": [
        ""
      ],
      "execution_count": null,
      "outputs": []
    },
    {
      "cell_type": "markdown",
      "metadata": {
        "id": "zhCK1bMKJDLZ"
      },
      "source": [
        "to deal with the outliers we'll use log transform"
      ]
    },
    {
      "cell_type": "code",
      "metadata": {
        "colab": {
          "base_uri": "https://localhost:8080/",
          "height": 929
        },
        "id": "IE4zBnLRtWIV",
        "outputId": "a0019e2d-02ca-479f-b3c3-645dc1308e6f"
      },
      "source": [
        "plt.figure(figsize=(12,12))\n",
        "sns.heatmap(df1.corr(),cmap='coolwarm')\n",
        "\n",
        "plt.title('Correlation Matrix')"
      ],
      "execution_count": 98,
      "outputs": [
        {
          "output_type": "execute_result",
          "data": {
            "text/plain": [
              "Text(0.5, 1.0, 'Correlation Matrix')"
            ]
          },
          "metadata": {
            "tags": []
          },
          "execution_count": 98
        },
        {
          "output_type": "display_data",
          "data": {
            "image/png": "[encoded data removed]",
            "text/plain": [
              "<Figure size 864x864 with 2 Axes>"
            ]
          },
          "metadata": {
            "tags": [],
            "needs_background": "light"
          }
        }
      ]
    },
    {
      "cell_type": "code",
      "metadata": {
        "id": "-qRbfYWnFkOr"
      },
      "source": [
        ""
      ],
      "execution_count": null,
      "outputs": []
    },
    {
      "cell_type": "code",
      "metadata": {
        "colab": {
          "base_uri": "https://localhost:8080/",
          "height": 226
        },
        "id": "OCdRL4Tw3Npi",
        "outputId": "a310fd5c-854d-41c1-d5c3-d726d5b5d509"
      },
      "source": [
        "# log tranformation\n",
        "df_log_=df2.applymap(lambda x: np.log(x+1))\n",
        "df_log_.head()"
      ],
      "execution_count": 114,
      "outputs": [
        {
          "output_type": "execute_result",
          "data": {
            "text/html": [
              "<div>\n",
              "<style scoped>\n",
              "    .dataframe tbody tr th:only-of-type {\n",
              "        vertical-align: middle;\n",
              "    }\n",
              "\n",
              "    .dataframe tbody tr th {\n",
              "        vertical-align: top;\n",
              "    }\n",
              "\n",
              "    .dataframe thead th {\n",
              "        text-align: right;\n",
              "    }\n",
              "</style>\n",
              "<table border=\"1\" class=\"dataframe\">\n",
              "  <thead>\n",
              "    <tr style=\"text-align: right;\">\n",
              "      <th></th>\n",
              "      <th>BALANCE</th>\n",
              "      <th>BALANCE_FREQUENCY</th>\n",
              "      <th>PURCHASES</th>\n",
              "      <th>ONEOFF_PURCHASES</th>\n",
              "      <th>INSTALLMENTS_PURCHASES</th>\n",
              "      <th>CASH_ADVANCE</th>\n",
              "      <th>PURCHASES_FREQUENCY</th>\n",
              "      <th>ONEOFF_PURCHASES_FREQUENCY</th>\n",
              "      <th>PURCHASES_INSTALLMENTS_FREQUENCY</th>\n",
              "      <th>CASH_ADVANCE_FREQUENCY</th>\n",
              "      <th>CASH_ADVANCE_TRX</th>\n",
              "      <th>PURCHASES_TRX</th>\n",
              "      <th>CREDIT_LIMIT</th>\n",
              "      <th>PAYMENTS</th>\n",
              "      <th>MINIMUM_PAYMENTS</th>\n",
              "      <th>PRC_FULL_PAYMENT</th>\n",
              "      <th>TENURE</th>\n",
              "    </tr>\n",
              "  </thead>\n",
              "  <tbody>\n",
              "    <tr>\n",
              "      <th>0</th>\n",
              "      <td>3.735304</td>\n",
              "      <td>0.597837</td>\n",
              "      <td>4.568506</td>\n",
              "      <td>0.000000</td>\n",
              "      <td>4.568506</td>\n",
              "      <td>0.000000</td>\n",
              "      <td>0.154151</td>\n",
              "      <td>0.000000</td>\n",
              "      <td>0.080042</td>\n",
              "      <td>0.000000</td>\n",
              "      <td>0.000000</td>\n",
              "      <td>1.098612</td>\n",
              "      <td>6.908755</td>\n",
              "      <td>5.312231</td>\n",
              "      <td>4.945277</td>\n",
              "      <td>0.000000</td>\n",
              "      <td>2.564949</td>\n",
              "    </tr>\n",
              "    <tr>\n",
              "      <th>1</th>\n",
              "      <td>8.071989</td>\n",
              "      <td>0.646627</td>\n",
              "      <td>0.000000</td>\n",
              "      <td>0.000000</td>\n",
              "      <td>0.000000</td>\n",
              "      <td>8.770896</td>\n",
              "      <td>0.000000</td>\n",
              "      <td>0.000000</td>\n",
              "      <td>0.000000</td>\n",
              "      <td>0.223144</td>\n",
              "      <td>1.609438</td>\n",
              "      <td>0.000000</td>\n",
              "      <td>8.853808</td>\n",
              "      <td>8.319725</td>\n",
              "      <td>6.978531</td>\n",
              "      <td>0.200671</td>\n",
              "      <td>2.564949</td>\n",
              "    </tr>\n",
              "    <tr>\n",
              "      <th>2</th>\n",
              "      <td>7.822504</td>\n",
              "      <td>0.693147</td>\n",
              "      <td>6.651791</td>\n",
              "      <td>6.651791</td>\n",
              "      <td>0.000000</td>\n",
              "      <td>0.000000</td>\n",
              "      <td>0.693147</td>\n",
              "      <td>0.693147</td>\n",
              "      <td>0.000000</td>\n",
              "      <td>0.000000</td>\n",
              "      <td>0.000000</td>\n",
              "      <td>2.564949</td>\n",
              "      <td>8.922792</td>\n",
              "      <td>6.434654</td>\n",
              "      <td>6.442994</td>\n",
              "      <td>0.000000</td>\n",
              "      <td>2.564949</td>\n",
              "    </tr>\n",
              "    <tr>\n",
              "      <th>3</th>\n",
              "      <td>7.419183</td>\n",
              "      <td>0.492477</td>\n",
              "      <td>7.313220</td>\n",
              "      <td>7.313220</td>\n",
              "      <td>0.000000</td>\n",
              "      <td>5.331694</td>\n",
              "      <td>0.080042</td>\n",
              "      <td>0.080042</td>\n",
              "      <td>0.000000</td>\n",
              "      <td>0.080042</td>\n",
              "      <td>0.693147</td>\n",
              "      <td>0.693147</td>\n",
              "      <td>8.922792</td>\n",
              "      <td>0.000000</td>\n",
              "      <td>5.747301</td>\n",
              "      <td>0.000000</td>\n",
              "      <td>2.564949</td>\n",
              "    </tr>\n",
              "    <tr>\n",
              "      <th>4</th>\n",
              "      <td>6.707735</td>\n",
              "      <td>0.693147</td>\n",
              "      <td>2.833213</td>\n",
              "      <td>2.833213</td>\n",
              "      <td>0.000000</td>\n",
              "      <td>0.000000</td>\n",
              "      <td>0.080042</td>\n",
              "      <td>0.080042</td>\n",
              "      <td>0.000000</td>\n",
              "      <td>0.000000</td>\n",
              "      <td>0.000000</td>\n",
              "      <td>0.693147</td>\n",
              "      <td>7.090910</td>\n",
              "      <td>6.521114</td>\n",
              "      <td>5.504483</td>\n",
              "      <td>0.000000</td>\n",
              "      <td>2.564949</td>\n",
              "    </tr>\n",
              "  </tbody>\n",
              "</table>\n",
              "</div>"
            ],
            "text/plain": [
              "    BALANCE  BALANCE_FREQUENCY  ...  PRC_FULL_PAYMENT    TENURE\n",
              "0  3.735304           0.597837  ...          0.000000  2.564949\n",
              "1  8.071989           0.646627  ...          0.200671  2.564949\n",
              "2  7.822504           0.693147  ...          0.000000  2.564949\n",
              "3  7.419183           0.492477  ...          0.000000  2.564949\n",
              "4  6.707735           0.693147  ...          0.000000  2.564949\n",
              "\n",
              "[5 rows x 17 columns]"
            ]
          },
          "metadata": {
            "tags": []
          },
          "execution_count": 114
        }
      ]
    },
    {
      "cell_type": "code",
      "metadata": {
        "colab": {
          "base_uri": "https://localhost:8080/"
        },
        "id": "dguu1B6rDL5Z",
        "outputId": "37f7094b-9981-428d-f0a1-18ab147c9873"
      },
      "source": [
        "df_log_.dtypes"
      ],
      "execution_count": 115,
      "outputs": [
        {
          "output_type": "execute_result",
          "data": {
            "text/plain": [
              "BALANCE                             float64\n",
              "BALANCE_FREQUENCY                   float64\n",
              "PURCHASES                           float64\n",
              "ONEOFF_PURCHASES                    float64\n",
              "INSTALLMENTS_PURCHASES              float64\n",
              "CASH_ADVANCE                        float64\n",
              "PURCHASES_FREQUENCY                 float64\n",
              "ONEOFF_PURCHASES_FREQUENCY          float64\n",
              "PURCHASES_INSTALLMENTS_FREQUENCY    float64\n",
              "CASH_ADVANCE_FREQUENCY              float64\n",
              "CASH_ADVANCE_TRX                    float64\n",
              "PURCHASES_TRX                       float64\n",
              "CREDIT_LIMIT                        float64\n",
              "PAYMENTS                            float64\n",
              "MINIMUM_PAYMENTS                    float64\n",
              "PRC_FULL_PAYMENT                    float64\n",
              "TENURE                              float64\n",
              "dtype: object"
            ]
          },
          "metadata": {
            "tags": []
          },
          "execution_count": 115
        }
      ]
    },
    {
      "cell_type": "code",
      "metadata": {
        "colab": {
          "base_uri": "https://localhost:8080/"
        },
        "id": "oA2GwKUyC9M0",
        "outputId": "d4c65ed0-745a-4c17-a7c0-7ddfd97c912f"
      },
      "source": [
        "df_log_.isnull().sum()"
      ],
      "execution_count": 116,
      "outputs": [
        {
          "output_type": "execute_result",
          "data": {
            "text/plain": [
              "BALANCE                             0\n",
              "BALANCE_FREQUENCY                   0\n",
              "PURCHASES                           0\n",
              "ONEOFF_PURCHASES                    0\n",
              "INSTALLMENTS_PURCHASES              0\n",
              "CASH_ADVANCE                        0\n",
              "PURCHASES_FREQUENCY                 0\n",
              "ONEOFF_PURCHASES_FREQUENCY          0\n",
              "PURCHASES_INSTALLMENTS_FREQUENCY    0\n",
              "CASH_ADVANCE_FREQUENCY              0\n",
              "CASH_ADVANCE_TRX                    0\n",
              "PURCHASES_TRX                       0\n",
              "CREDIT_LIMIT                        0\n",
              "PAYMENTS                            0\n",
              "MINIMUM_PAYMENTS                    0\n",
              "PRC_FULL_PAYMENT                    0\n",
              "TENURE                              0\n",
              "dtype: int64"
            ]
          },
          "metadata": {
            "tags": []
          },
          "execution_count": 116
        }
      ]
    },
    {
      "cell_type": "code",
      "metadata": {
        "colab": {
          "base_uri": "https://localhost:8080/"
        },
        "id": "NMqeikeuB4Tq",
        "outputId": "61018366-4c8d-411f-9143-76820804c391"
      },
      "source": [
        "df_log_.skew()"
      ],
      "execution_count": 118,
      "outputs": [
        {
          "output_type": "execute_result",
          "data": {
            "text/plain": [
              "BALANCE                            -0.861021\n",
              "BALANCE_FREQUENCY                  -2.285534\n",
              "PURCHASES                          -0.764492\n",
              "ONEOFF_PURCHASES                    0.185854\n",
              "INSTALLMENTS_PURCHASES             -0.024981\n",
              "CASH_ADVANCE                        0.262594\n",
              "PURCHASES_FREQUENCY                -0.089637\n",
              "ONEOFF_PURCHASES_FREQUENCY          1.290617\n",
              "PURCHASES_INSTALLMENTS_FREQUENCY    0.373620\n",
              "CASH_ADVANCE_FREQUENCY              1.455462\n",
              "CASH_ADVANCE_TRX                    0.940131\n",
              "PURCHASES_TRX                       0.032697\n",
              "CREDIT_LIMIT                       -0.101564\n",
              "PAYMENTS                           -1.778312\n",
              "MINIMUM_PAYMENTS                    0.269703\n",
              "PRC_FULL_PAYMENT                    1.746046\n",
              "TENURE                             -3.170222\n",
              "dtype: float64"
            ]
          },
          "metadata": {
            "tags": []
          },
          "execution_count": 118
        }
      ]
    },
    {
      "cell_type": "code",
      "metadata": {
        "colab": {
          "base_uri": "https://localhost:8080/"
        },
        "id": "W1aUNb2WD8Lt",
        "outputId": "198bec13-d0d7-402a-b513-b5a2eac18a05"
      },
      "source": [
        "np.any(np.isnan(df_log_))"
      ],
      "execution_count": 119,
      "outputs": [
        {
          "output_type": "execute_result",
          "data": {
            "text/plain": [
              "False"
            ]
          },
          "metadata": {
            "tags": []
          },
          "execution_count": 119
        }
      ]
    },
    {
      "cell_type": "code",
      "metadata": {
        "colab": {
          "base_uri": "https://localhost:8080/"
        },
        "id": "uaesdqTIEBBJ",
        "outputId": "338b8081-3abe-4927-80f4-bc91640e1de9"
      },
      "source": [
        "np.all(np.isfinite(df_log_))"
      ],
      "execution_count": 120,
      "outputs": [
        {
          "output_type": "execute_result",
          "data": {
            "text/plain": [
              "True"
            ]
          },
          "metadata": {
            "tags": []
          },
          "execution_count": 120
        }
      ]
    },
    {
      "cell_type": "code",
      "metadata": {
        "id": "ioVjl2o8EObH"
      },
      "source": [
        "df_log_ = df_log_.reset_index()"
      ],
      "execution_count": 121,
      "outputs": []
    },
    {
      "cell_type": "code",
      "metadata": {
        "colab": {
          "base_uri": "https://localhost:8080/"
        },
        "id": "G1xxNhjvCMpv",
        "outputId": "37108c1a-db16-49cd-b02d-0e4f1e7a2f09"
      },
      "source": [
        "from sklearn.preprocessing import  StandardScaler\n",
        "scaler=StandardScaler()\n",
        "df_scaled=scaler.fit_transform(df_log_)\n",
        "df_scaled"
      ],
      "execution_count": 122,
      "outputs": [
        {
          "output_type": "execute_result",
          "data": {
            "text/plain": [
              "array([[-1.73185729, -1.20521818, -0.14875746, ..., -0.82984142,\n",
              "        -0.5563681 ,  0.34726215],\n",
              "       [-1.73147024,  0.94891762,  0.17961568, ...,  0.90818413,\n",
              "         0.39195795,  0.34726215],\n",
              "       [-1.73108319,  0.82499258,  0.49271003, ...,  0.45040683,\n",
              "        -0.5563681 ,  0.34726215],\n",
              "       ...,\n",
              "       [ 1.73108319, -1.4738341 , -0.09290575, ..., -1.27554159,\n",
              "         0.49816074, -4.40142479],\n",
              "       [ 1.73147024, -1.73377525, -0.09290575, ..., -1.60473686,\n",
              "         0.49816074, -4.40142479],\n",
              "       [ 1.73185729, -0.11830096, -0.73437135, ..., -1.21740725,\n",
              "        -0.5563681 , -4.40142479]])"
            ]
          },
          "metadata": {
            "tags": []
          },
          "execution_count": 122
        }
      ]
    },
    {
      "cell_type": "code",
      "metadata": {
        "id": "8jU7KIlyCuO_"
      },
      "source": [
        "from sklearn.decomposition import PCA\n"
      ],
      "execution_count": 123,
      "outputs": []
    },
    {
      "cell_type": "code",
      "metadata": {
        "id": "G72_0ThaCyEQ"
      },
      "source": [
        "var_ratio={}\n",
        "for n in range(2,18):\n",
        "    pc=PCA(n_components=n)\n",
        "    c=pc.fit(df_scaled)\n",
        "    var_ratio[n]=sum(c.explained_variance_ratio_)"
      ],
      "execution_count": 124,
      "outputs": []
    },
    {
      "cell_type": "code",
      "metadata": {
        "colab": {
          "base_uri": "https://localhost:8080/"
        },
        "id": "kCFfTzopE7Gy",
        "outputId": "585769d3-4796-4307-df90-1e2f4d1fa692"
      },
      "source": [
        "var_ratio"
      ],
      "execution_count": 125,
      "outputs": [
        {
          "output_type": "execute_result",
          "data": {
            "text/plain": [
              "{2: 0.5382700937523085,\n",
              " 3: 0.6316650548613434,\n",
              " 4: 0.70347223207385,\n",
              " 5: 0.7687505874738807,\n",
              " 6: 0.8205543398322799,\n",
              " 7: 0.8648997418212199,\n",
              " 8: 0.8992379544699677,\n",
              " 9: 0.9267567173763329,\n",
              " 10: 0.9504706302262167,\n",
              " 11: 0.9650267205431134,\n",
              " 12: 0.9753350438153965,\n",
              " 13: 0.9830751489257259,\n",
              " 14: 0.9887368562689582,\n",
              " 15: 0.9937815452283365,\n",
              " 16: 0.9963355034168554,\n",
              " 17: 0.9986267987764023}"
            ]
          },
          "metadata": {
            "tags": []
          },
          "execution_count": 125
        }
      ]
    },
    {
      "cell_type": "markdown",
      "metadata": {
        "id": "iYMC8QGSJwmv"
      },
      "source": [
        "lets take p class =8"
      ]
    },
    {
      "cell_type": "code",
      "metadata": {
        "colab": {
          "base_uri": "https://localhost:8080/"
        },
        "id": "YZWf689tE_m9",
        "outputId": "4b1acea2-6ce7-49c6-fda7-da049c5ee3ed"
      },
      "source": [
        "pc=PCA(n_components=8)\n",
        "df_final=pc.fit_transform(df_scaled)\n",
        "df_final"
      ],
      "execution_count": 128,
      "outputs": [
        {
          "output_type": "execute_result",
          "data": {
            "text/plain": [
              "array([[-0.23623632, -2.32022801, -0.45598433, ...,  0.63880041,\n",
              "         0.51307644,  1.56715349],\n",
              "       [-3.4507945 ,  1.35225237, -0.61233244, ..., -0.1308651 ,\n",
              "         1.01071295,  0.12771959],\n",
              "       [ 1.50767   ,  1.6117384 , -3.01688083, ...,  0.41240251,\n",
              "         0.79250643,  0.44496308],\n",
              "       ...,\n",
              "       [ 1.01708522, -3.58338179,  2.39194721, ...,  0.49703957,\n",
              "         2.49409666, -0.86568341],\n",
              "       [-2.83611424, -4.17363822,  1.21608808, ..., -0.32927057,\n",
              "         2.32107047,  0.03467453],\n",
              "       [-0.14423092, -0.9138847 , -0.18395479, ...,  0.95117424,\n",
              "         1.08388394, -0.32498512]])"
            ]
          },
          "metadata": {
            "tags": []
          },
          "execution_count": 128
        }
      ]
    },
    {
      "cell_type": "code",
      "metadata": {
        "colab": {
          "base_uri": "https://localhost:8080/",
          "height": 283
        },
        "id": "vNhZixGKFkAj",
        "outputId": "891519de-d86d-4eb7-de3c-bbe317ce2c3c"
      },
      "source": [
        "pd.Series(var_ratio).plot(marker=\"o\")"
      ],
      "execution_count": 129,
      "outputs": [
        {
          "output_type": "execute_result",
          "data": {
            "text/plain": [
              "<matplotlib.axes._subplots.AxesSubplot at 0x7f461a3ca310>"
            ]
          },
          "metadata": {
            "tags": []
          },
          "execution_count": 129
        },
        {
          "output_type": "display_data",
          "data": {
            "image/png": "[encoded data removed]",
            "text/plain": [
              "<Figure size 432x288 with 1 Axes>"
            ]
          },
          "metadata": {
            "tags": [],
            "needs_background": "light"
          }
        }
      ]
    },
    {
      "cell_type": "code",
      "metadata": {
        "id": "2hJUiPkwGZBG"
      },
      "source": [
        "from sklearn.cluster import KMeans\n",
        "no_cluster = range( 1, 21 )\n",
        "errors = []\n",
        "\n",
        "for i in no_cluster:\n",
        "    clusters = KMeans( i )\n",
        "    clusters.fit( df_final )\n",
        "    errors.append( clusters.inertia_ )"
      ],
      "execution_count": 130,
      "outputs": []
    },
    {
      "cell_type": "code",
      "metadata": {
        "colab": {
          "base_uri": "https://localhost:8080/",
          "height": 677
        },
        "id": "NHGNn78mGsZG",
        "outputId": "d667163f-508d-426a-d42a-5d00451f185c"
      },
      "source": [
        "clus_df = pd.DataFrame( { \"number\":no_cluster, \"errors\": errors } )\n",
        "\n",
        "clus_df[0:21]"
      ],
      "execution_count": 132,
      "outputs": [
        {
          "output_type": "execute_result",
          "data": {
            "text/html": [
              "<div>\n",
              "<style scoped>\n",
              "    .dataframe tbody tr th:only-of-type {\n",
              "        vertical-align: middle;\n",
              "    }\n",
              "\n",
              "    .dataframe tbody tr th {\n",
              "        vertical-align: top;\n",
              "    }\n",
              "\n",
              "    .dataframe thead th {\n",
              "        text-align: right;\n",
              "    }\n",
              "</style>\n",
              "<table border=\"1\" class=\"dataframe\">\n",
              "  <thead>\n",
              "    <tr style=\"text-align: right;\">\n",
              "      <th></th>\n",
              "      <th>number</th>\n",
              "      <th>errors</th>\n",
              "    </tr>\n",
              "  </thead>\n",
              "  <tbody>\n",
              "    <tr>\n",
              "      <th>0</th>\n",
              "      <td>1</td>\n",
              "      <td>144867.234465</td>\n",
              "    </tr>\n",
              "    <tr>\n",
              "      <th>1</th>\n",
              "      <td>2</td>\n",
              "      <td>105101.186236</td>\n",
              "    </tr>\n",
              "    <tr>\n",
              "      <th>2</th>\n",
              "      <td>3</td>\n",
              "      <td>87119.380168</td>\n",
              "    </tr>\n",
              "    <tr>\n",
              "      <th>3</th>\n",
              "      <td>4</td>\n",
              "      <td>77890.358821</td>\n",
              "    </tr>\n",
              "    <tr>\n",
              "      <th>4</th>\n",
              "      <td>5</td>\n",
              "      <td>69159.710986</td>\n",
              "    </tr>\n",
              "    <tr>\n",
              "      <th>5</th>\n",
              "      <td>6</td>\n",
              "      <td>63266.922051</td>\n",
              "    </tr>\n",
              "    <tr>\n",
              "      <th>6</th>\n",
              "      <td>7</td>\n",
              "      <td>59261.867336</td>\n",
              "    </tr>\n",
              "    <tr>\n",
              "      <th>7</th>\n",
              "      <td>8</td>\n",
              "      <td>55924.591592</td>\n",
              "    </tr>\n",
              "    <tr>\n",
              "      <th>8</th>\n",
              "      <td>9</td>\n",
              "      <td>53020.516283</td>\n",
              "    </tr>\n",
              "    <tr>\n",
              "      <th>9</th>\n",
              "      <td>10</td>\n",
              "      <td>50511.428068</td>\n",
              "    </tr>\n",
              "    <tr>\n",
              "      <th>10</th>\n",
              "      <td>11</td>\n",
              "      <td>48471.277230</td>\n",
              "    </tr>\n",
              "    <tr>\n",
              "      <th>11</th>\n",
              "      <td>12</td>\n",
              "      <td>47092.353082</td>\n",
              "    </tr>\n",
              "    <tr>\n",
              "      <th>12</th>\n",
              "      <td>13</td>\n",
              "      <td>45661.609591</td>\n",
              "    </tr>\n",
              "    <tr>\n",
              "      <th>13</th>\n",
              "      <td>14</td>\n",
              "      <td>44074.246853</td>\n",
              "    </tr>\n",
              "    <tr>\n",
              "      <th>14</th>\n",
              "      <td>15</td>\n",
              "      <td>42871.991378</td>\n",
              "    </tr>\n",
              "    <tr>\n",
              "      <th>15</th>\n",
              "      <td>16</td>\n",
              "      <td>41635.432939</td>\n",
              "    </tr>\n",
              "    <tr>\n",
              "      <th>16</th>\n",
              "      <td>17</td>\n",
              "      <td>40615.910781</td>\n",
              "    </tr>\n",
              "    <tr>\n",
              "      <th>17</th>\n",
              "      <td>18</td>\n",
              "      <td>39761.257033</td>\n",
              "    </tr>\n",
              "    <tr>\n",
              "      <th>18</th>\n",
              "      <td>19</td>\n",
              "      <td>38928.281738</td>\n",
              "    </tr>\n",
              "    <tr>\n",
              "      <th>19</th>\n",
              "      <td>20</td>\n",
              "      <td>38106.508732</td>\n",
              "    </tr>\n",
              "  </tbody>\n",
              "</table>\n",
              "</div>"
            ],
            "text/plain": [
              "    number         errors\n",
              "0        1  144867.234465\n",
              "1        2  105101.186236\n",
              "2        3   87119.380168\n",
              "3        4   77890.358821\n",
              "4        5   69159.710986\n",
              "5        6   63266.922051\n",
              "6        7   59261.867336\n",
              "7        8   55924.591592\n",
              "8        9   53020.516283\n",
              "9       10   50511.428068\n",
              "10      11   48471.277230\n",
              "11      12   47092.353082\n",
              "12      13   45661.609591\n",
              "13      14   44074.246853\n",
              "14      15   42871.991378\n",
              "15      16   41635.432939\n",
              "16      17   40615.910781\n",
              "17      18   39761.257033\n",
              "18      19   38928.281738\n",
              "19      20   38106.508732"
            ]
          },
          "metadata": {
            "tags": []
          },
          "execution_count": 132
        }
      ]
    },
    {
      "cell_type": "code",
      "metadata": {
        "colab": {
          "base_uri": "https://localhost:8080/",
          "height": 392
        },
        "id": "_NUqLabHGtKX",
        "outputId": "ac258595-1a48-4d74-8d92-498a51483568"
      },
      "source": [
        "%matplotlib inline\n",
        "import matplotlib.pyplot as plt\n",
        "plt.figure(figsize=(12,6))\n",
        "plt.plot( clus_df.number, clus_df.errors, marker = \"o\" )"
      ],
      "execution_count": 133,
      "outputs": [
        {
          "output_type": "execute_result",
          "data": {
            "text/plain": [
              "[<matplotlib.lines.Line2D at 0x7f461a100d50>]"
            ]
          },
          "metadata": {
            "tags": []
          },
          "execution_count": 133
        },
        {
          "output_type": "display_data",
          "data": {
            "image/png": "[encoded data removed]",
            "text/plain": [
              "<Figure size 864x432 with 1 Axes>"
            ]
          },
          "metadata": {
            "tags": [],
            "needs_background": "light"
          }
        }
      ]
    },
    {
      "cell_type": "markdown",
      "metadata": {
        "id": "fqEFU_WyK_7O"
      },
      "source": [
        "from elbow method num of cluster =3"
      ]
    },
    {
      "cell_type": "code",
      "metadata": {
        "colab": {
          "base_uri": "https://localhost:8080/"
        },
        "id": "zuhW2lSBLKRF",
        "outputId": "c38c9a22-688a-42da-eb65-62c4da43e028"
      },
      "source": [
        "kmean = KMeans( n_clusters=3)\n",
        "kmean.fit(df_final)"
      ],
      "execution_count": 136,
      "outputs": [
        {
          "output_type": "execute_result",
          "data": {
            "text/plain": [
              "KMeans(algorithm='auto', copy_x=True, init='k-means++', max_iter=300,\n",
              "       n_clusters=3, n_init=10, n_jobs=None, precompute_distances='auto',\n",
              "       random_state=None, tol=0.0001, verbose=0)"
            ]
          },
          "metadata": {
            "tags": []
          },
          "execution_count": 136
        }
      ]
    },
    {
      "cell_type": "code",
      "metadata": {
        "id": "ujho_9HRMQxz"
      },
      "source": [
        "labels=kmean.labels_"
      ],
      "execution_count": 137,
      "outputs": []
    },
    {
      "cell_type": "code",
      "metadata": {
        "id": "9Gsa8NA7MaOv"
      },
      "source": [
        "labels=pd.Series(data=labels)\n",
        "labels.head(10)"
      ],
      "execution_count": null,
      "outputs": []
    },
    {
      "cell_type": "code",
      "metadata": {
        "colab": {
          "base_uri": "https://localhost:8080/",
          "height": 461
        },
        "id": "nZdqQ4roNKxT",
        "outputId": "f74c638a-e85f-4fbd-e926-26c1d54c5ad3"
      },
      "source": [
        "plt.figure(figsize=(7,7))\n",
        "plt.scatter(df_final[:,0],df_final[:,1],c=labels,cmap='Spectral',alpha=0.5)\n",
        "plt.xlabel('PC_0')\n",
        "plt.ylabel('PC_1')"
      ],
      "execution_count": 140,
      "outputs": [
        {
          "output_type": "execute_result",
          "data": {
            "text/plain": [
              "Text(0, 0.5, 'PC_1')"
            ]
          },
          "metadata": {
            "tags": []
          },
          "execution_count": 140
        },
        {
          "output_type": "display_data",
          "data": {
            "image/png": "[encoded data removed]",
            "text/plain": [
              "<Figure size 504x504 with 1 Axes>"
            ]
          },
          "metadata": {
            "tags": [],
            "needs_background": "light"
          }
        }
      ]
    },
    {
      "cell_type": "code",
      "metadata": {
        "id": "Xo_IOENfNlt1"
      },
      "source": [
        "labels_num=list() #Extracting the various clusters formed\n",
        "for i in range(10):\n",
        "    labels_num.append(labels[labels.values==i])"
      ],
      "execution_count": 143,
      "outputs": []
    },
    {
      "cell_type": "code",
      "metadata": {
        "colab": {
          "base_uri": "https://localhost:8080/",
          "height": 206
        },
        "id": "ZlkNuUSLORRQ",
        "outputId": "488aa86b-6793-4c8f-cd61-f48c9134dbb8"
      },
      "source": [
        "df_final=pd.DataFrame(df_final)\n",
        "df_final.head()"
      ],
      "execution_count": 145,
      "outputs": [
        {
          "output_type": "execute_result",
          "data": {
            "text/html": [
              "<div>\n",
              "<style scoped>\n",
              "    .dataframe tbody tr th:only-of-type {\n",
              "        vertical-align: middle;\n",
              "    }\n",
              "\n",
              "    .dataframe tbody tr th {\n",
              "        vertical-align: top;\n",
              "    }\n",
              "\n",
              "    .dataframe thead th {\n",
              "        text-align: right;\n",
              "    }\n",
              "</style>\n",
              "<table border=\"1\" class=\"dataframe\">\n",
              "  <thead>\n",
              "    <tr style=\"text-align: right;\">\n",
              "      <th></th>\n",
              "      <th>0</th>\n",
              "      <th>1</th>\n",
              "      <th>2</th>\n",
              "      <th>3</th>\n",
              "      <th>4</th>\n",
              "      <th>5</th>\n",
              "      <th>6</th>\n",
              "      <th>7</th>\n",
              "    </tr>\n",
              "  </thead>\n",
              "  <tbody>\n",
              "    <tr>\n",
              "      <th>0</th>\n",
              "      <td>-0.236236</td>\n",
              "      <td>-2.320228</td>\n",
              "      <td>-0.455984</td>\n",
              "      <td>-1.521339</td>\n",
              "      <td>-0.287017</td>\n",
              "      <td>0.638800</td>\n",
              "      <td>0.513076</td>\n",
              "      <td>1.567153</td>\n",
              "    </tr>\n",
              "    <tr>\n",
              "      <th>1</th>\n",
              "      <td>-3.450794</td>\n",
              "      <td>1.352252</td>\n",
              "      <td>-0.612332</td>\n",
              "      <td>-1.258875</td>\n",
              "      <td>1.775814</td>\n",
              "      <td>-0.130865</td>\n",
              "      <td>1.010713</td>\n",
              "      <td>0.127720</td>\n",
              "    </tr>\n",
              "    <tr>\n",
              "      <th>2</th>\n",
              "      <td>1.507670</td>\n",
              "      <td>1.611738</td>\n",
              "      <td>-3.016881</td>\n",
              "      <td>-0.422552</td>\n",
              "      <td>-1.018588</td>\n",
              "      <td>0.412403</td>\n",
              "      <td>0.792506</td>\n",
              "      <td>0.444963</td>\n",
              "    </tr>\n",
              "    <tr>\n",
              "      <th>3</th>\n",
              "      <td>-1.245699</td>\n",
              "      <td>-0.706589</td>\n",
              "      <td>-2.424076</td>\n",
              "      <td>-0.359894</td>\n",
              "      <td>-1.033191</td>\n",
              "      <td>3.009970</td>\n",
              "      <td>0.006909</td>\n",
              "      <td>1.131573</td>\n",
              "    </tr>\n",
              "    <tr>\n",
              "      <th>4</th>\n",
              "      <td>-1.124680</td>\n",
              "      <td>-0.997548</td>\n",
              "      <td>-1.543122</td>\n",
              "      <td>-1.611088</td>\n",
              "      <td>-0.874310</td>\n",
              "      <td>-0.423917</td>\n",
              "      <td>1.080441</td>\n",
              "      <td>1.185569</td>\n",
              "    </tr>\n",
              "  </tbody>\n",
              "</table>\n",
              "</div>"
            ],
            "text/plain": [
              "          0         1         2  ...         5         6         7\n",
              "0 -0.236236 -2.320228 -0.455984  ...  0.638800  0.513076  1.567153\n",
              "1 -3.450794  1.352252 -0.612332  ... -0.130865  1.010713  0.127720\n",
              "2  1.507670  1.611738 -3.016881  ...  0.412403  0.792506  0.444963\n",
              "3 -1.245699 -0.706589 -2.424076  ...  3.009970  0.006909  1.131573\n",
              "4 -1.124680 -0.997548 -1.543122  ... -0.423917  1.080441  1.185569\n",
              "\n",
              "[5 rows x 8 columns]"
            ]
          },
          "metadata": {
            "tags": []
          },
          "execution_count": 145
        }
      ]
    },
    {
      "cell_type": "code",
      "metadata": {
        "colab": {
          "base_uri": "https://localhost:8080/"
        },
        "id": "wkYJL6OpNx6b",
        "outputId": "4a6e863a-cdbd-4233-c916-52f7340f80f9"
      },
      "source": [
        "cluster_1=df.iloc[labels_x[0].index,:]\n",
        "cluster_2  =df.iloc[labels_x[1].index,:]\n",
        "cluster_3 =df.iloc[labels_x[2].index,:]\n",
        "print(cluster_1.shape)"
      ],
      "execution_count": 154,
      "outputs": [
        {
          "output_type": "stream",
          "text": [
            "(2868, 18)\n"
          ],
          "name": "stdout"
        }
      ]
    },
    {
      "cell_type": "code",
      "metadata": {
        "colab": {
          "base_uri": "https://localhost:8080/"
        },
        "id": "lksprremOlbr",
        "outputId": "ba22ecc3-c5f5-4ef5-884a-91b0f3831984"
      },
      "source": [
        "print(cluster_2.shape)\n",
        "cluster_3.shape"
      ],
      "execution_count": 155,
      "outputs": [
        {
          "output_type": "stream",
          "text": [
            "(2848, 18)\n"
          ],
          "name": "stdout"
        },
        {
          "output_type": "execute_result",
          "data": {
            "text/plain": [
              "(3234, 18)"
            ]
          },
          "metadata": {
            "tags": []
          },
          "execution_count": 155
        }
      ]
    },
    {
      "cell_type": "code",
      "metadata": {
        "colab": {
          "base_uri": "https://localhost:8080/",
          "height": 320
        },
        "id": "RTDmp_ytPFQJ",
        "outputId": "ad004d60-460c-4993-c796-3dac2871d946"
      },
      "source": [
        "cluster_1.describe()"
      ],
      "execution_count": 156,
      "outputs": [
        {
          "output_type": "execute_result",
          "data": {
            "text/html": [
              "<div>\n",
              "<style scoped>\n",
              "    .dataframe tbody tr th:only-of-type {\n",
              "        vertical-align: middle;\n",
              "    }\n",
              "\n",
              "    .dataframe tbody tr th {\n",
              "        vertical-align: top;\n",
              "    }\n",
              "\n",
              "    .dataframe thead th {\n",
              "        text-align: right;\n",
              "    }\n",
              "</style>\n",
              "<table border=\"1\" class=\"dataframe\">\n",
              "  <thead>\n",
              "    <tr style=\"text-align: right;\">\n",
              "      <th></th>\n",
              "      <th>BALANCE</th>\n",
              "      <th>BALANCE_FREQUENCY</th>\n",
              "      <th>PURCHASES</th>\n",
              "      <th>ONEOFF_PURCHASES</th>\n",
              "      <th>INSTALLMENTS_PURCHASES</th>\n",
              "      <th>CASH_ADVANCE</th>\n",
              "      <th>PURCHASES_FREQUENCY</th>\n",
              "      <th>ONEOFF_PURCHASES_FREQUENCY</th>\n",
              "      <th>PURCHASES_INSTALLMENTS_FREQUENCY</th>\n",
              "      <th>CASH_ADVANCE_FREQUENCY</th>\n",
              "      <th>CASH_ADVANCE_TRX</th>\n",
              "      <th>PURCHASES_TRX</th>\n",
              "      <th>CREDIT_LIMIT</th>\n",
              "      <th>PAYMENTS</th>\n",
              "      <th>MINIMUM_PAYMENTS</th>\n",
              "      <th>PRC_FULL_PAYMENT</th>\n",
              "      <th>TENURE</th>\n",
              "    </tr>\n",
              "  </thead>\n",
              "  <tbody>\n",
              "    <tr>\n",
              "      <th>count</th>\n",
              "      <td>2868.000000</td>\n",
              "      <td>2868.000000</td>\n",
              "      <td>2868.000000</td>\n",
              "      <td>2868.000000</td>\n",
              "      <td>2868.000000</td>\n",
              "      <td>2868.000000</td>\n",
              "      <td>2868.000000</td>\n",
              "      <td>2868.000000</td>\n",
              "      <td>2868.000000</td>\n",
              "      <td>2868.000000</td>\n",
              "      <td>2868.000000</td>\n",
              "      <td>2868.000000</td>\n",
              "      <td>2868.000000</td>\n",
              "      <td>2868.000000</td>\n",
              "      <td>2868.000000</td>\n",
              "      <td>2868.000000</td>\n",
              "      <td>2868.000000</td>\n",
              "    </tr>\n",
              "    <tr>\n",
              "      <th>mean</th>\n",
              "      <td>219.921401</td>\n",
              "      <td>0.721090</td>\n",
              "      <td>467.518717</td>\n",
              "      <td>160.212838</td>\n",
              "      <td>307.701792</td>\n",
              "      <td>35.962209</td>\n",
              "      <td>0.541511</td>\n",
              "      <td>0.076830</td>\n",
              "      <td>0.449530</td>\n",
              "      <td>0.009812</td>\n",
              "      <td>0.140516</td>\n",
              "      <td>8.653068</td>\n",
              "      <td>3196.795132</td>\n",
              "      <td>695.971534</td>\n",
              "      <td>230.371992</td>\n",
              "      <td>0.271101</td>\n",
              "      <td>11.379010</td>\n",
              "    </tr>\n",
              "    <tr>\n",
              "      <th>std</th>\n",
              "      <td>385.879822</td>\n",
              "      <td>0.315131</td>\n",
              "      <td>503.400054</td>\n",
              "      <td>370.679348</td>\n",
              "      <td>423.978907</td>\n",
              "      <td>196.417667</td>\n",
              "      <td>0.347831</td>\n",
              "      <td>0.145692</td>\n",
              "      <td>0.382443</td>\n",
              "      <td>0.040159</td>\n",
              "      <td>0.648137</td>\n",
              "      <td>8.318767</td>\n",
              "      <td>2742.613890</td>\n",
              "      <td>1281.764230</td>\n",
              "      <td>494.557003</td>\n",
              "      <td>0.358158</td>\n",
              "      <td>1.519667</td>\n",
              "    </tr>\n",
              "    <tr>\n",
              "      <th>min</th>\n",
              "      <td>0.000000</td>\n",
              "      <td>0.000000</td>\n",
              "      <td>0.000000</td>\n",
              "      <td>0.000000</td>\n",
              "      <td>0.000000</td>\n",
              "      <td>0.000000</td>\n",
              "      <td>0.000000</td>\n",
              "      <td>0.000000</td>\n",
              "      <td>0.000000</td>\n",
              "      <td>0.000000</td>\n",
              "      <td>0.000000</td>\n",
              "      <td>0.000000</td>\n",
              "      <td>150.000000</td>\n",
              "      <td>0.000000</td>\n",
              "      <td>0.019163</td>\n",
              "      <td>0.000000</td>\n",
              "      <td>6.000000</td>\n",
              "    </tr>\n",
              "    <tr>\n",
              "      <th>25%</th>\n",
              "      <td>17.903070</td>\n",
              "      <td>0.454545</td>\n",
              "      <td>139.415000</td>\n",
              "      <td>0.000000</td>\n",
              "      <td>0.000000</td>\n",
              "      <td>0.000000</td>\n",
              "      <td>0.200000</td>\n",
              "      <td>0.000000</td>\n",
              "      <td>0.000000</td>\n",
              "      <td>0.000000</td>\n",
              "      <td>0.000000</td>\n",
              "      <td>3.000000</td>\n",
              "      <td>1200.000000</td>\n",
              "      <td>196.713668</td>\n",
              "      <td>102.664936</td>\n",
              "      <td>0.000000</td>\n",
              "      <td>12.000000</td>\n",
              "    </tr>\n",
              "    <tr>\n",
              "      <th>50%</th>\n",
              "      <td>56.103919</td>\n",
              "      <td>0.833333</td>\n",
              "      <td>311.675000</td>\n",
              "      <td>0.000000</td>\n",
              "      <td>177.880000</td>\n",
              "      <td>0.000000</td>\n",
              "      <td>0.500000</td>\n",
              "      <td>0.000000</td>\n",
              "      <td>0.416667</td>\n",
              "      <td>0.000000</td>\n",
              "      <td>0.000000</td>\n",
              "      <td>7.000000</td>\n",
              "      <td>2500.000000</td>\n",
              "      <td>401.522123</td>\n",
              "      <td>159.036061</td>\n",
              "      <td>0.000000</td>\n",
              "      <td>12.000000</td>\n",
              "    </tr>\n",
              "    <tr>\n",
              "      <th>75%</th>\n",
              "      <td>189.498135</td>\n",
              "      <td>1.000000</td>\n",
              "      <td>600.337500</td>\n",
              "      <td>139.550000</td>\n",
              "      <td>419.077500</td>\n",
              "      <td>0.000000</td>\n",
              "      <td>0.916667</td>\n",
              "      <td>0.083333</td>\n",
              "      <td>0.833333</td>\n",
              "      <td>0.000000</td>\n",
              "      <td>0.000000</td>\n",
              "      <td>12.000000</td>\n",
              "      <td>4000.000000</td>\n",
              "      <td>785.175842</td>\n",
              "      <td>210.937093</td>\n",
              "      <td>0.500000</td>\n",
              "      <td>12.000000</td>\n",
              "    </tr>\n",
              "    <tr>\n",
              "      <th>max</th>\n",
              "      <td>3215.903805</td>\n",
              "      <td>1.000000</td>\n",
              "      <td>5252.040000</td>\n",
              "      <td>4440.800000</td>\n",
              "      <td>3520.000000</td>\n",
              "      <td>4158.990631</td>\n",
              "      <td>1.000000</td>\n",
              "      <td>1.000000</td>\n",
              "      <td>1.000000</td>\n",
              "      <td>0.666667</td>\n",
              "      <td>14.000000</td>\n",
              "      <td>88.000000</td>\n",
              "      <td>23000.000000</td>\n",
              "      <td>29272.486070</td>\n",
              "      <td>13564.391210</td>\n",
              "      <td>1.000000</td>\n",
              "      <td>12.000000</td>\n",
              "    </tr>\n",
              "  </tbody>\n",
              "</table>\n",
              "</div>"
            ],
            "text/plain": [
              "           BALANCE  BALANCE_FREQUENCY  ...  PRC_FULL_PAYMENT       TENURE\n",
              "count  2868.000000        2868.000000  ...       2868.000000  2868.000000\n",
              "mean    219.921401           0.721090  ...          0.271101    11.379010\n",
              "std     385.879822           0.315131  ...          0.358158     1.519667\n",
              "min       0.000000           0.000000  ...          0.000000     6.000000\n",
              "25%      17.903070           0.454545  ...          0.000000    12.000000\n",
              "50%      56.103919           0.833333  ...          0.000000    12.000000\n",
              "75%     189.498135           1.000000  ...          0.500000    12.000000\n",
              "max    3215.903805           1.000000  ...          1.000000    12.000000\n",
              "\n",
              "[8 rows x 17 columns]"
            ]
          },
          "metadata": {
            "tags": []
          },
          "execution_count": 156
        }
      ]
    },
    {
      "cell_type": "code",
      "metadata": {
        "colab": {
          "base_uri": "https://localhost:8080/",
          "height": 320
        },
        "id": "0o0OLugNPHtl",
        "outputId": "76dbfa6d-3515-4216-f015-033cbece0b14"
      },
      "source": [
        "cluster_2.describe()"
      ],
      "execution_count": 157,
      "outputs": [
        {
          "output_type": "execute_result",
          "data": {
            "text/html": [
              "<div>\n",
              "<style scoped>\n",
              "    .dataframe tbody tr th:only-of-type {\n",
              "        vertical-align: middle;\n",
              "    }\n",
              "\n",
              "    .dataframe tbody tr th {\n",
              "        vertical-align: top;\n",
              "    }\n",
              "\n",
              "    .dataframe thead th {\n",
              "        text-align: right;\n",
              "    }\n",
              "</style>\n",
              "<table border=\"1\" class=\"dataframe\">\n",
              "  <thead>\n",
              "    <tr style=\"text-align: right;\">\n",
              "      <th></th>\n",
              "      <th>BALANCE</th>\n",
              "      <th>BALANCE_FREQUENCY</th>\n",
              "      <th>PURCHASES</th>\n",
              "      <th>ONEOFF_PURCHASES</th>\n",
              "      <th>INSTALLMENTS_PURCHASES</th>\n",
              "      <th>CASH_ADVANCE</th>\n",
              "      <th>PURCHASES_FREQUENCY</th>\n",
              "      <th>ONEOFF_PURCHASES_FREQUENCY</th>\n",
              "      <th>PURCHASES_INSTALLMENTS_FREQUENCY</th>\n",
              "      <th>CASH_ADVANCE_FREQUENCY</th>\n",
              "      <th>CASH_ADVANCE_TRX</th>\n",
              "      <th>PURCHASES_TRX</th>\n",
              "      <th>CREDIT_LIMIT</th>\n",
              "      <th>PAYMENTS</th>\n",
              "      <th>MINIMUM_PAYMENTS</th>\n",
              "      <th>PRC_FULL_PAYMENT</th>\n",
              "      <th>TENURE</th>\n",
              "    </tr>\n",
              "  </thead>\n",
              "  <tbody>\n",
              "    <tr>\n",
              "      <th>count</th>\n",
              "      <td>2848.000000</td>\n",
              "      <td>2848.000000</td>\n",
              "      <td>2848.000000</td>\n",
              "      <td>2848.000000</td>\n",
              "      <td>2848.000000</td>\n",
              "      <td>2848.000000</td>\n",
              "      <td>2848.000000</td>\n",
              "      <td>2848.000000</td>\n",
              "      <td>2848.000000</td>\n",
              "      <td>2848.000000</td>\n",
              "      <td>2848.000000</td>\n",
              "      <td>2848.000000</td>\n",
              "      <td>2848.000000</td>\n",
              "      <td>2848.000000</td>\n",
              "      <td>2848.000000</td>\n",
              "      <td>2848.000000</td>\n",
              "      <td>2848.000000</td>\n",
              "    </tr>\n",
              "    <tr>\n",
              "      <th>mean</th>\n",
              "      <td>2339.594835</td>\n",
              "      <td>0.918865</td>\n",
              "      <td>93.898746</td>\n",
              "      <td>77.556938</td>\n",
              "      <td>16.384529</td>\n",
              "      <td>2125.733120</td>\n",
              "      <td>0.065742</td>\n",
              "      <td>0.040535</td>\n",
              "      <td>0.023078</td>\n",
              "      <td>0.292608</td>\n",
              "      <td>7.030197</td>\n",
              "      <td>1.031601</td>\n",
              "      <td>4258.048178</td>\n",
              "      <td>1731.795347</td>\n",
              "      <td>1070.422813</td>\n",
              "      <td>0.032533</td>\n",
              "      <td>11.349368</td>\n",
              "    </tr>\n",
              "    <tr>\n",
              "      <th>std</th>\n",
              "      <td>2195.692073</td>\n",
              "      <td>0.181821</td>\n",
              "      <td>258.674510</td>\n",
              "      <td>240.575161</td>\n",
              "      <td>100.525414</td>\n",
              "      <td>2556.994635</td>\n",
              "      <td>0.135718</td>\n",
              "      <td>0.090375</td>\n",
              "      <td>0.094565</td>\n",
              "      <td>0.213733</td>\n",
              "      <td>8.861210</td>\n",
              "      <td>2.312073</td>\n",
              "      <td>3362.980219</td>\n",
              "      <td>2722.836649</td>\n",
              "      <td>2515.904789</td>\n",
              "      <td>0.101058</td>\n",
              "      <td>1.522040</td>\n",
              "    </tr>\n",
              "    <tr>\n",
              "      <th>min</th>\n",
              "      <td>1.691842</td>\n",
              "      <td>0.090909</td>\n",
              "      <td>0.000000</td>\n",
              "      <td>0.000000</td>\n",
              "      <td>0.000000</td>\n",
              "      <td>0.000000</td>\n",
              "      <td>0.000000</td>\n",
              "      <td>0.000000</td>\n",
              "      <td>0.000000</td>\n",
              "      <td>0.000000</td>\n",
              "      <td>0.000000</td>\n",
              "      <td>0.000000</td>\n",
              "      <td>50.000000</td>\n",
              "      <td>0.000000</td>\n",
              "      <td>8.561540</td>\n",
              "      <td>0.000000</td>\n",
              "      <td>6.000000</td>\n",
              "    </tr>\n",
              "    <tr>\n",
              "      <th>25%</th>\n",
              "      <td>907.906590</td>\n",
              "      <td>1.000000</td>\n",
              "      <td>0.000000</td>\n",
              "      <td>0.000000</td>\n",
              "      <td>0.000000</td>\n",
              "      <td>436.859463</td>\n",
              "      <td>0.000000</td>\n",
              "      <td>0.000000</td>\n",
              "      <td>0.000000</td>\n",
              "      <td>0.125000</td>\n",
              "      <td>2.000000</td>\n",
              "      <td>0.000000</td>\n",
              "      <td>1600.000000</td>\n",
              "      <td>398.663096</td>\n",
              "      <td>299.929666</td>\n",
              "      <td>0.000000</td>\n",
              "      <td>12.000000</td>\n",
              "    </tr>\n",
              "    <tr>\n",
              "      <th>50%</th>\n",
              "      <td>1598.609185</td>\n",
              "      <td>1.000000</td>\n",
              "      <td>0.000000</td>\n",
              "      <td>0.000000</td>\n",
              "      <td>0.000000</td>\n",
              "      <td>1347.773572</td>\n",
              "      <td>0.000000</td>\n",
              "      <td>0.000000</td>\n",
              "      <td>0.000000</td>\n",
              "      <td>0.250000</td>\n",
              "      <td>4.000000</td>\n",
              "      <td>0.000000</td>\n",
              "      <td>3000.000000</td>\n",
              "      <td>831.971581</td>\n",
              "      <td>521.046340</td>\n",
              "      <td>0.000000</td>\n",
              "      <td>12.000000</td>\n",
              "    </tr>\n",
              "    <tr>\n",
              "      <th>75%</th>\n",
              "      <td>3020.160714</td>\n",
              "      <td>1.000000</td>\n",
              "      <td>63.440000</td>\n",
              "      <td>0.000000</td>\n",
              "      <td>0.000000</td>\n",
              "      <td>2845.776419</td>\n",
              "      <td>0.083333</td>\n",
              "      <td>0.000000</td>\n",
              "      <td>0.000000</td>\n",
              "      <td>0.416667</td>\n",
              "      <td>9.000000</td>\n",
              "      <td>1.000000</td>\n",
              "      <td>6000.000000</td>\n",
              "      <td>1854.802181</td>\n",
              "      <td>1089.357368</td>\n",
              "      <td>0.000000</td>\n",
              "      <td>12.000000</td>\n",
              "    </tr>\n",
              "    <tr>\n",
              "      <th>max</th>\n",
              "      <td>16304.889250</td>\n",
              "      <td>1.000000</td>\n",
              "      <td>3191.000000</td>\n",
              "      <td>3191.000000</td>\n",
              "      <td>3000.000000</td>\n",
              "      <td>26194.049540</td>\n",
              "      <td>1.000000</td>\n",
              "      <td>0.857143</td>\n",
              "      <td>0.888889</td>\n",
              "      <td>1.500000</td>\n",
              "      <td>123.000000</td>\n",
              "      <td>32.000000</td>\n",
              "      <td>19000.000000</td>\n",
              "      <td>34107.074990</td>\n",
              "      <td>61031.618600</td>\n",
              "      <td>1.000000</td>\n",
              "      <td>12.000000</td>\n",
              "    </tr>\n",
              "  </tbody>\n",
              "</table>\n",
              "</div>"
            ],
            "text/plain": [
              "            BALANCE  BALANCE_FREQUENCY  ...  PRC_FULL_PAYMENT       TENURE\n",
              "count   2848.000000        2848.000000  ...       2848.000000  2848.000000\n",
              "mean    2339.594835           0.918865  ...          0.032533    11.349368\n",
              "std     2195.692073           0.181821  ...          0.101058     1.522040\n",
              "min        1.691842           0.090909  ...          0.000000     6.000000\n",
              "25%      907.906590           1.000000  ...          0.000000    12.000000\n",
              "50%     1598.609185           1.000000  ...          0.000000    12.000000\n",
              "75%     3020.160714           1.000000  ...          0.000000    12.000000\n",
              "max    16304.889250           1.000000  ...          1.000000    12.000000\n",
              "\n",
              "[8 rows x 17 columns]"
            ]
          },
          "metadata": {
            "tags": []
          },
          "execution_count": 157
        }
      ]
    },
    {
      "cell_type": "code",
      "metadata": {
        "colab": {
          "base_uri": "https://localhost:8080/",
          "height": 320
        },
        "id": "NhW_4esLPKE_",
        "outputId": "a2ce67df-8cce-438d-cc4f-e288a5b8f290"
      },
      "source": [
        "cluster_3.describe()"
      ],
      "execution_count": 158,
      "outputs": [
        {
          "output_type": "execute_result",
          "data": {
            "text/html": [
              "<div>\n",
              "<style scoped>\n",
              "    .dataframe tbody tr th:only-of-type {\n",
              "        vertical-align: middle;\n",
              "    }\n",
              "\n",
              "    .dataframe tbody tr th {\n",
              "        vertical-align: top;\n",
              "    }\n",
              "\n",
              "    .dataframe thead th {\n",
              "        text-align: right;\n",
              "    }\n",
              "</style>\n",
              "<table border=\"1\" class=\"dataframe\">\n",
              "  <thead>\n",
              "    <tr style=\"text-align: right;\">\n",
              "      <th></th>\n",
              "      <th>BALANCE</th>\n",
              "      <th>BALANCE_FREQUENCY</th>\n",
              "      <th>PURCHASES</th>\n",
              "      <th>ONEOFF_PURCHASES</th>\n",
              "      <th>INSTALLMENTS_PURCHASES</th>\n",
              "      <th>CASH_ADVANCE</th>\n",
              "      <th>PURCHASES_FREQUENCY</th>\n",
              "      <th>ONEOFF_PURCHASES_FREQUENCY</th>\n",
              "      <th>PURCHASES_INSTALLMENTS_FREQUENCY</th>\n",
              "      <th>CASH_ADVANCE_FREQUENCY</th>\n",
              "      <th>CASH_ADVANCE_TRX</th>\n",
              "      <th>PURCHASES_TRX</th>\n",
              "      <th>CREDIT_LIMIT</th>\n",
              "      <th>PAYMENTS</th>\n",
              "      <th>MINIMUM_PAYMENTS</th>\n",
              "      <th>PRC_FULL_PAYMENT</th>\n",
              "      <th>TENURE</th>\n",
              "    </tr>\n",
              "  </thead>\n",
              "  <tbody>\n",
              "    <tr>\n",
              "      <th>count</th>\n",
              "      <td>3234.000000</td>\n",
              "      <td>3234.000000</td>\n",
              "      <td>3234.000000</td>\n",
              "      <td>3234.000000</td>\n",
              "      <td>3234.000000</td>\n",
              "      <td>3234.000000</td>\n",
              "      <td>3234.000000</td>\n",
              "      <td>3234.000000</td>\n",
              "      <td>3234.000000</td>\n",
              "      <td>3234.000000</td>\n",
              "      <td>3234.000000</td>\n",
              "      <td>3234.000000</td>\n",
              "      <td>3234.000000</td>\n",
              "      <td>3234.000000</td>\n",
              "      <td>3234.000000</td>\n",
              "      <td>3234.000000</td>\n",
              "      <td>3234.000000</td>\n",
              "    </tr>\n",
              "    <tr>\n",
              "      <th>mean</th>\n",
              "      <td>2074.257588</td>\n",
              "      <td>0.979146</td>\n",
              "      <td>2279.040182</td>\n",
              "      <td>1429.171889</td>\n",
              "      <td>850.310309</td>\n",
              "      <td>805.092429</td>\n",
              "      <td>0.818909</td>\n",
              "      <td>0.456464</td>\n",
              "      <td>0.589590</td>\n",
              "      <td>0.107623</td>\n",
              "      <td>2.675325</td>\n",
              "      <td>32.126778</td>\n",
              "      <td>5853.430096</td>\n",
              "      <td>2654.124294</td>\n",
              "      <td>1191.293914</td>\n",
              "      <td>0.156331</td>\n",
              "      <td>11.787879</td>\n",
              "    </tr>\n",
              "    <tr>\n",
              "      <th>std</th>\n",
              "      <td>2285.332509</td>\n",
              "      <td>0.068038</td>\n",
              "      <td>3121.174860</td>\n",
              "      <td>2520.734801</td>\n",
              "      <td>1325.049832</td>\n",
              "      <td>2098.719554</td>\n",
              "      <td>0.230835</td>\n",
              "      <td>0.344549</td>\n",
              "      <td>0.374016</td>\n",
              "      <td>0.180727</td>\n",
              "      <td>6.156961</td>\n",
              "      <td>33.815524</td>\n",
              "      <td>4077.623290</td>\n",
              "      <td>3662.170737</td>\n",
              "      <td>2961.849295</td>\n",
              "      <td>0.298168</td>\n",
              "      <td>0.868831</td>\n",
              "    </tr>\n",
              "    <tr>\n",
              "      <th>min</th>\n",
              "      <td>12.423203</td>\n",
              "      <td>0.272727</td>\n",
              "      <td>8.400000</td>\n",
              "      <td>0.000000</td>\n",
              "      <td>0.000000</td>\n",
              "      <td>0.000000</td>\n",
              "      <td>0.083333</td>\n",
              "      <td>0.000000</td>\n",
              "      <td>0.000000</td>\n",
              "      <td>0.000000</td>\n",
              "      <td>0.000000</td>\n",
              "      <td>1.000000</td>\n",
              "      <td>300.000000</td>\n",
              "      <td>0.000000</td>\n",
              "      <td>3.197940</td>\n",
              "      <td>0.000000</td>\n",
              "      <td>6.000000</td>\n",
              "    </tr>\n",
              "    <tr>\n",
              "      <th>25%</th>\n",
              "      <td>510.567693</td>\n",
              "      <td>1.000000</td>\n",
              "      <td>735.320000</td>\n",
              "      <td>232.260000</td>\n",
              "      <td>132.580000</td>\n",
              "      <td>0.000000</td>\n",
              "      <td>0.666667</td>\n",
              "      <td>0.166667</td>\n",
              "      <td>0.250000</td>\n",
              "      <td>0.000000</td>\n",
              "      <td>0.000000</td>\n",
              "      <td>12.000000</td>\n",
              "      <td>2500.000000</td>\n",
              "      <td>855.382496</td>\n",
              "      <td>208.601691</td>\n",
              "      <td>0.000000</td>\n",
              "      <td>12.000000</td>\n",
              "    </tr>\n",
              "    <tr>\n",
              "      <th>50%</th>\n",
              "      <td>1300.499057</td>\n",
              "      <td>1.000000</td>\n",
              "      <td>1427.060000</td>\n",
              "      <td>772.885000</td>\n",
              "      <td>467.280000</td>\n",
              "      <td>0.000000</td>\n",
              "      <td>0.916667</td>\n",
              "      <td>0.416667</td>\n",
              "      <td>0.666667</td>\n",
              "      <td>0.000000</td>\n",
              "      <td>0.000000</td>\n",
              "      <td>22.000000</td>\n",
              "      <td>5000.000000</td>\n",
              "      <td>1605.356450</td>\n",
              "      <td>504.886630</td>\n",
              "      <td>0.000000</td>\n",
              "      <td>12.000000</td>\n",
              "    </tr>\n",
              "    <tr>\n",
              "      <th>75%</th>\n",
              "      <td>2762.906983</td>\n",
              "      <td>1.000000</td>\n",
              "      <td>2659.995000</td>\n",
              "      <td>1661.447500</td>\n",
              "      <td>1085.670000</td>\n",
              "      <td>773.188127</td>\n",
              "      <td>1.000000</td>\n",
              "      <td>0.750000</td>\n",
              "      <td>1.000000</td>\n",
              "      <td>0.166667</td>\n",
              "      <td>3.000000</td>\n",
              "      <td>39.000000</td>\n",
              "      <td>8000.000000</td>\n",
              "      <td>3018.497577</td>\n",
              "      <td>1150.768557</td>\n",
              "      <td>0.125000</td>\n",
              "      <td>12.000000</td>\n",
              "    </tr>\n",
              "    <tr>\n",
              "      <th>max</th>\n",
              "      <td>19043.138560</td>\n",
              "      <td>1.000000</td>\n",
              "      <td>49039.570000</td>\n",
              "      <td>40761.250000</td>\n",
              "      <td>22500.000000</td>\n",
              "      <td>47137.211760</td>\n",
              "      <td>1.000000</td>\n",
              "      <td>1.000000</td>\n",
              "      <td>1.000000</td>\n",
              "      <td>1.000000</td>\n",
              "      <td>123.000000</td>\n",
              "      <td>358.000000</td>\n",
              "      <td>30000.000000</td>\n",
              "      <td>50721.483360</td>\n",
              "      <td>76406.207520</td>\n",
              "      <td>1.000000</td>\n",
              "      <td>12.000000</td>\n",
              "    </tr>\n",
              "  </tbody>\n",
              "</table>\n",
              "</div>"
            ],
            "text/plain": [
              "            BALANCE  BALANCE_FREQUENCY  ...  PRC_FULL_PAYMENT       TENURE\n",
              "count   3234.000000        3234.000000  ...       3234.000000  3234.000000\n",
              "mean    2074.257588           0.979146  ...          0.156331    11.787879\n",
              "std     2285.332509           0.068038  ...          0.298168     0.868831\n",
              "min       12.423203           0.272727  ...          0.000000     6.000000\n",
              "25%      510.567693           1.000000  ...          0.000000    12.000000\n",
              "50%     1300.499057           1.000000  ...          0.000000    12.000000\n",
              "75%     2762.906983           1.000000  ...          0.125000    12.000000\n",
              "max    19043.138560           1.000000  ...          1.000000    12.000000\n",
              "\n",
              "[8 rows x 17 columns]"
            ]
          },
          "metadata": {
            "tags": []
          },
          "execution_count": 158
        }
      ]
    },
    {
      "cell_type": "code",
      "metadata": {
        "colab": {
          "base_uri": "https://localhost:8080/",
          "height": 729
        },
        "id": "zl9PEuLOPLqj",
        "outputId": "a60806d6-0201-4426-b74e-9714a83e07ed"
      },
      "source": [
        "cluster_1[['BALANCE', 'PURCHASES', 'ONEOFF_PURCHASES','INSTALLMENTS_PURCHASES', 'CASH_ADVANCE',\n",
        "    'CREDIT_LIMIT', 'PAYMENTS', 'MINIMUM_PAYMENTS', 'PRC_FULL_PAYMENT']].hist(figsize=(10,10))\n",
        "\n",
        "plt.tight_layout()"
      ],
      "execution_count": 160,
      "outputs": [
        {
          "output_type": "display_data",
          "data": {
            "image/png": "[encoded data removed]",
            "text/plain": [
              "<Figure size 720x720 with 9 Axes>"
            ]
          },
          "metadata": {
            "tags": [],
            "needs_background": "light"
          }
        }
      ]
    },
    {
      "cell_type": "code",
      "metadata": {
        "colab": {
          "base_uri": "https://localhost:8080/",
          "height": 729
        },
        "id": "67oCDW1ePwXU",
        "outputId": "9dca224e-4667-4df3-d609-90f1d4546d95"
      },
      "source": [
        "cluster_2[['BALANCE', 'PURCHASES', 'ONEOFF_PURCHASES','INSTALLMENTS_PURCHASES', 'CASH_ADVANCE',\n",
        "    'CREDIT_LIMIT', 'PAYMENTS', 'MINIMUM_PAYMENTS', 'PRC_FULL_PAYMENT']].hist(figsize=(10,10))\n",
        "\n",
        "plt.tight_layout()"
      ],
      "execution_count": 162,
      "outputs": [
        {
          "output_type": "display_data",
          "data": {
            "image/png": "[encoded data removed]",
            "text/plain": [
              "<Figure size 720x720 with 9 Axes>"
            ]
          },
          "metadata": {
            "tags": [],
            "needs_background": "light"
          }
        }
      ]
    },
    {
      "cell_type": "code",
      "metadata": {
        "colab": {
          "base_uri": "https://localhost:8080/",
          "height": 729
        },
        "id": "pIbBZOMlQcOW",
        "outputId": "da1d1a56-fabd-4f79-d67d-8b1e32d02c41"
      },
      "source": [
        "cluster_3[['BALANCE', 'PURCHASES', 'ONEOFF_PURCHASES','INSTALLMENTS_PURCHASES', 'CASH_ADVANCE',\n",
        "    'CREDIT_LIMIT', 'PAYMENTS', 'MINIMUM_PAYMENTS', 'PRC_FULL_PAYMENT']].hist(figsize=(10,10))\n",
        "\n",
        "plt.tight_layout()"
      ],
      "execution_count": 161,
      "outputs": [
        {
          "output_type": "display_data",
          "data": {
            "image/png": "[encoded data removed]",
            "text/plain": [
              "<Figure size 720x720 with 9 Axes>"
            ]
          },
          "metadata": {
            "tags": [],
            "needs_background": "light"
          }
        }
      ]
    },
    {
      "cell_type": "markdown",
      "metadata": {
        "id": "1APr0n10SbXF"
      },
      "source": [
        "There are three clusters\n",
        "\n",
        "cluster1- 32% of total customers\n",
        "1. High balence\n",
        "2. purchase =low\n",
        "3. credit limit =high\n",
        "4. less no of one_off payments\n",
        "\n",
        "\n",
        "\n",
        "cluster2 - 31% of total customers\n",
        "1. balence  =low\n",
        "2. purchase = high\n",
        "3. credit limit = low\n",
        "4. higher no of one off payemnt\n",
        "\n",
        "\n",
        "\n",
        "cluster3 - 36% of total customers\n",
        "1. balence =medium\n",
        "2. purchase =high\n",
        "3. credit limit =medium\n",
        "4. higher num of one_off payments\n",
        "\n",
        "\n",
        "\n",
        "\n"
      ]
    },
    {
      "cell_type": "code",
      "metadata": {
        "id": "h33NbxvUUZvO"
      },
      "source": [
        ""
      ],
      "execution_count": null,
      "outputs": []
    }
  ]
}